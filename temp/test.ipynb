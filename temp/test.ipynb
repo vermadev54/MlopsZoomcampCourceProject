{
 "cells": [
  {
   "cell_type": "code",
   "execution_count": 6,
   "metadata": {},
   "outputs": [
    {
     "name": "stdout",
     "output_type": "stream",
     "text": [
      "path s3://jai-mlops-data/1/96a17ab73a2645a2b7ecfeb4ef7cd6cd/artifacts/models_mlflow 1/96a17ab73a2645a2b7ecfeb4ef7cd6cd/artifacts/encoder\n",
      "1/96a17ab73a2645a2b7ecfeb4ef7cd6cd/artifacts/encoder/le_Gender.pkl\n",
      "1/96a17ab73a2645a2b7ecfeb4ef7cd6cd/artifacts/encoder/le_Education_Level.pkl\n",
      "1/96a17ab73a2645a2b7ecfeb4ef7cd6cd/artifacts/encoder/le_Marital_Status.pkl\n",
      "1/96a17ab73a2645a2b7ecfeb4ef7cd6cd/artifacts/encoder/le_Income_Category.pkl\n",
      "1/96a17ab73a2645a2b7ecfeb4ef7cd6cd/artifacts/encoder/le_Card_Category.pkl\n"
     ]
    }
   ],
   "source": [
    "import os\n",
    "\n",
    "import model\n",
    "\n",
    "PREDICTIONS_STREAM_NAME = os.getenv('PREDICTIONS_STREAM_NAME', 'ride_predictions')\n",
    "\n",
    "\n",
    "RUN_ID='96a17ab73a2645a2b7ecfeb4ef7cd6cd'\n",
    "\n",
    "\n",
    "model_service = model.init(\n",
    "    prediction_stream_name=PREDICTIONS_STREAM_NAME,\n",
    "    run_id=RUN_ID,\n",
    "    test_run=True,\n",
    ")"
   ]
  },
  {
   "cell_type": "code",
   "execution_count": 2,
   "metadata": {},
   "outputs": [],
   "source": [
    "from model import *\n",
    "artifact_path = get_model_artifact_location(RUN_ID)"
   ]
  },
  {
   "cell_type": "code",
   "execution_count": 3,
   "metadata": {},
   "outputs": [
    {
     "data": {
      "text/plain": [
       "'1/96a17ab73a2645a2b7ecfeb4ef7cd6cd/artifacts/encoder'"
      ]
     },
     "execution_count": 3,
     "metadata": {},
     "output_type": "execute_result"
    }
   ],
   "source": [
    "artifact_path"
   ]
  },
  {
   "cell_type": "code",
   "execution_count": 4,
   "metadata": {},
   "outputs": [
    {
     "data": {
      "text/plain": [
       "'1/96a17ab73a2645a2b7ecfeb4ef7cd6cd/artifacts/encoder/le_Gender.pkl'"
      ]
     },
     "execution_count": 4,
     "metadata": {},
     "output_type": "execute_result"
    }
   ],
   "source": [
    "os.path.join(artifact_path, \"le_Gender.pkl\")"
   ]
  },
  {
   "cell_type": "code",
   "execution_count": 5,
   "metadata": {},
   "outputs": [
    {
     "name": "stdout",
     "output_type": "stream",
     "text": [
      "1/96a17ab73a2645a2b7ecfeb4ef7cd6cd/artifacts/encoder/le_Gender.pkl\n"
     ]
    },
    {
     "data": {
      "text/plain": [
       "LabelEncoder()"
      ]
     },
     "execution_count": 5,
     "metadata": {},
     "output_type": "execute_result"
    }
   ],
   "source": [
    "get_artifact_encoder(os.path.join(artifact_path, \"le_Gender.pkl\"))"
   ]
  },
  {
   "cell_type": "code",
   "execution_count": 6,
   "metadata": {},
   "outputs": [],
   "source": [
    "data= {\n",
    "    'profile':{\n",
    "                'Customer_Age': 45,\n",
    "                'Gender': 'M',\n",
    "                'Dependent_count': 3,\n",
    "                'Education_Level': 'High School',\n",
    "                'Marital_Status': 'Married',\n",
    "                'Income_Category': '$60K - $80K',\n",
    "                'Card_Category': 'Blue',\n",
    "                'Months_on_book': 39,\n",
    "                'Total_Relationship_Count': 5,\n",
    "                'Months_Inactive_12_mon': 1,\n",
    "                'Contacts_Count_12_mon': 3,\n",
    "                'Credit_Limit': 12691.0,\n",
    "                'Total_Revolving_Bal': 777,\n",
    "                'Avg_Open_To_Buy': 11914.0,\n",
    "                'Total_Amt_Chng_Q4_Q1': 1.335,\n",
    "                'Total_Trans_Amt': 1144,\n",
    "                'Total_Trans_Ct': 42,\n",
    "                'Total_Ct_Chng_Q4_Q1': 1.625,\n",
    "                'Avg_Utilization_Ratio': 0.061},\n",
    "    'profile_id':10\n",
    "\n",
    " }\n",
    "\n",
    "\n"
   ]
  },
  {
   "cell_type": "code",
   "execution_count": 7,
   "metadata": {},
   "outputs": [
    {
     "data": {
      "text/plain": [
       "'{\"profile\": {\"Customer_Age\": 45, \"Gender\": \"M\", \"Dependent_count\": 3, \"Education_Level\": \"High School\", \"Marital_Status\": \"Married\", \"Income_Category\": \"$60K - $80K\", \"Card_Category\": \"Blue\", \"Months_on_book\": 39, \"Total_Relationship_Count\": 5, \"Months_Inactive_12_mon\": 1, \"Contacts_Count_12_mon\": 3, \"Credit_Limit\": 12691.0, \"Total_Revolving_Bal\": 777, \"Avg_Open_To_Buy\": 11914.0, \"Total_Amt_Chng_Q4_Q1\": 1.335, \"Total_Trans_Amt\": 1144, \"Total_Trans_Ct\": 42, \"Total_Ct_Chng_Q4_Q1\": 1.625, \"Avg_Utilization_Ratio\": 0.061}, \"profile_id\": 10}'"
      ]
     },
     "execution_count": 7,
     "metadata": {},
     "output_type": "execute_result"
    }
   ],
   "source": [
    "json.dumps(data)"
   ]
  },
  {
   "cell_type": "code",
   "execution_count": 8,
   "metadata": {},
   "outputs": [
    {
     "ename": "KeyError",
     "evalue": "'Gender'",
     "output_type": "error",
     "traceback": [
      "\u001b[0;31m---------------------------------------------------------------------------\u001b[0m",
      "\u001b[0;31mKeyError\u001b[0m                                  Traceback (most recent call last)",
      "\u001b[1;32m/home/ubuntu/MlopsZoomcampCourceProject/temp/test.ipynb Cell 8\u001b[0m in \u001b[0;36m<cell line: 1>\u001b[0;34m()\u001b[0m\n\u001b[0;32m----> <a href='vscode-notebook-cell://ssh-remote%2B34.201.53.77/home/ubuntu/MlopsZoomcampCourceProject/temp/test.ipynb#W6sdnNjb2RlLXJlbW90ZQ%3D%3D?line=0'>1</a>\u001b[0m feature\u001b[39m=\u001b[39mmodel_service\u001b[39m.\u001b[39;49mprepare_features(data)\n",
      "File \u001b[0;32m~/MlopsZoomcampCourceProject/temp/model.py:115\u001b[0m, in \u001b[0;36mModelService.prepare_features\u001b[0;34m(self, data)\u001b[0m\n\u001b[1;32m    113\u001b[0m features \u001b[39m=\u001b[39m {}\n\u001b[1;32m    114\u001b[0m \u001b[39m#encode data\u001b[39;00m\n\u001b[0;32m--> 115\u001b[0m data[\u001b[39m'\u001b[39m\u001b[39mGender_n\u001b[39m\u001b[39m'\u001b[39m] \u001b[39m=\u001b[39m \u001b[39mself\u001b[39m\u001b[39m.\u001b[39mle_Gender\u001b[39m.\u001b[39mtransform([data[\u001b[39m'\u001b[39;49m\u001b[39mGender\u001b[39;49m\u001b[39m'\u001b[39;49m]])[\u001b[39m0\u001b[39m]\n\u001b[1;32m    116\u001b[0m data[\u001b[39m'\u001b[39m\u001b[39mEducation_Level_n\u001b[39m\u001b[39m'\u001b[39m] \u001b[39m=\u001b[39m \u001b[39mself\u001b[39m\u001b[39m.\u001b[39mle_Education_Level\u001b[39m.\u001b[39mtransform([data[\u001b[39m'\u001b[39m\u001b[39mEducation_Level\u001b[39m\u001b[39m'\u001b[39m]])[\u001b[39m0\u001b[39m]\n\u001b[1;32m    117\u001b[0m data[\u001b[39m'\u001b[39m\u001b[39mMarital_Status_n\u001b[39m\u001b[39m'\u001b[39m] \u001b[39m=\u001b[39m \u001b[39mself\u001b[39m\u001b[39m.\u001b[39mle_Marital_Status\u001b[39m.\u001b[39mtransform([data[\u001b[39m'\u001b[39m\u001b[39mMarital_Status\u001b[39m\u001b[39m'\u001b[39m]])[\u001b[39m0\u001b[39m]\n",
      "\u001b[0;31mKeyError\u001b[0m: 'Gender'"
     ]
    }
   ],
   "source": [
    "feature=model_service.prepare_features(data)"
   ]
  },
  {
   "cell_type": "code",
   "execution_count": 9,
   "metadata": {},
   "outputs": [
    {
     "ename": "NameError",
     "evalue": "name 'feature' is not defined",
     "output_type": "error",
     "traceback": [
      "\u001b[0;31m---------------------------------------------------------------------------\u001b[0m",
      "\u001b[0;31mNameError\u001b[0m                                 Traceback (most recent call last)",
      "\u001b[1;32m/home/ubuntu/MlopsZoomcampCourceProject/temp/test.ipynb Cell 9\u001b[0m in \u001b[0;36m<cell line: 1>\u001b[0;34m()\u001b[0m\n\u001b[0;32m----> <a href='vscode-notebook-cell://ssh-remote%2B34.201.53.77/home/ubuntu/MlopsZoomcampCourceProject/temp/test.ipynb#X10sdnNjb2RlLXJlbW90ZQ%3D%3D?line=0'>1</a>\u001b[0m model_service\u001b[39m.\u001b[39mpredict(feature)\n",
      "\u001b[0;31mNameError\u001b[0m: name 'feature' is not defined"
     ]
    }
   ],
   "source": [
    "model_service.predict(feature)"
   ]
  },
  {
   "cell_type": "code",
   "execution_count": 4,
   "metadata": {},
   "outputs": [],
   "source": [
    "data2 = {\n",
    "    \"Records\": [\n",
    "        {\n",
    "            \"kinesis\": {\n",
    "                \"kinesisSchemaVersion\": \"1.0\",\n",
    "                \"partitionKey\": \"1\",\n",
    "                \"sequenceNumber\": \"49632672741856698858034338568813035242133890721111867394\",\n",
    "                \"data\": \"eyJwcm9maWxlIjogeyJDdXN0b21lcl9BZ2UiOiA0NSwgIkdlbmRlciI6ICJNIiwgIkRlcGVuZGVudF9jb3VudCI6IDMsICJFZHVjYXRpb25fTGV2ZWwiOiAiSGlnaCBTY2hvb2wiLCAiTWFyaXRhbF9TdGF0dXMiOiAiTWFycmllZCIsICJJbmNvbWVfQ2F0ZWdvcnkiOiAiJDYwSyAtICQ4MEsiLCAiQ2FyZF9DYXRlZ29yeSI6ICJCbHVlIiwgIk1vbnRoc19vbl9ib29rIjogMzksICJUb3RhbF9SZWxhdGlvbnNoaXBfQ291bnQiOiA1LCAiTW9udGhzX0luYWN0aXZlXzEyX21vbiI6IDEsICJDb250YWN0c19Db3VudF8xMl9tb24iOiAzLCAiQ3JlZGl0X0xpbWl0IjogMTI2OTEuMCwgIlRvdGFsX1Jldm9sdmluZ19CYWwiOiA3NzcsICJBdmdfT3Blbl9Ub19CdXkiOiAxMTkxNC4wLCAiVG90YWxfQW10X0NobmdfUTRfUTEiOiAxLjMzNSwgIlRvdGFsX1RyYW5zX0FtdCI6IDExNDQsICJUb3RhbF9UcmFuc19DdCI6IDQyLCAiVG90YWxfQ3RfQ2huZ19RNF9RMSI6IDEuNjI1LCAiQXZnX1V0aWxpemF0aW9uX1JhdGlvIjogMC4wNjF9LCAicHJvZmlsZV9pZCI6IDEwfQ==\",\n",
    "                \"approximateArrivalTimestamp\": 1661424222.822\n",
    "            },\n",
    "            \"eventSource\": \"aws:kinesis\",\n",
    "            \"eventVersion\": \"1.0\",\n",
    "            \"eventID\": \"shardId-000000000000:49632672741856698858034338568813035242133890721111867394\",\n",
    "            \"eventName\": \"aws:kinesis:record\",\n",
    "            \"invokeIdentityArn\": \"arn:aws:iam::818606151817:role/lambda-kinesis-role\",\n",
    "            \"awsRegion\": \"us-east-1\",\n",
    "            \"eventSourceARN\": \"arn:aws:kinesis:us-east-1:818606151817:stream/profile_predictions\"\n",
    "        }\n",
    "    ]\n",
    "}"
   ]
  },
  {
   "cell_type": "code",
   "execution_count": 54,
   "metadata": {},
   "outputs": [
    {
     "name": "stdout",
     "output_type": "stream",
     "text": [
      "eyJwcm9maWxlIjogeyJDdXN0b21lcl9BZ2UiOiA0NSwgIkdlbmRlciI6ICJNIiwgIkRlcGVuZGVudF9jb3VudCI6IDMsICJFZHVjYXRpb25fTGV2ZWwiOiAiSGlnaCBTY2hvb2wiLCAiTWFyaXRhbF9TdGF0dXMiOiAiTWFycmllZCIsICJJbmNvbWVfQ2F0ZWdvcnkiOiAiJDYwSyAtICQ4MEsiLCAiQ2FyZF9DYXRlZ29yeSI6ICJCbHVlIiwgIk1vbnRoc19vbl9ib29rIjogMzksICJUb3RhbF9SZWxhdGlvbnNoaXBfQ291bnQiOiA1LCAiTW9udGhzX0luYWN0aXZlXzEyX21vbiI6IDEsICJDb250YWN0c19Db3VudF8xMl9tb24iOiAzLCAiQ3JlZGl0X0xpbWl0IjogMTI2OTEuMCwgIlRvdGFsX1Jldm9sdmluZ19CYWwiOiA3NzcsICJBdmdfT3Blbl9Ub19CdXkiOiAxMTkxNC4wLCAiVG90YWxfQW10X0NobmdfUTRfUTEiOiAxLjMzNSwgIlRvdGFsX1RyYW5zX0FtdCI6IDExNDQsICJUb3RhbF9UcmFuc19DdCI6IDQyLCAiVG90YWxfQ3RfQ2huZ19RNF9RMSI6IDEuNjI1LCAiQXZnX1V0aWxpemF0aW9uX1JhdGlvIjogMC4wNjF9LCAicHJvZmlsZV9pZCI6IDEwfQ==\n",
      "{'profile': {'Customer_Age': 45, 'Gender': 'M', 'Dependent_count': 3, 'Education_Level': 'High School', 'Marital_Status': 'Married', 'Income_Category': '$60K - $80K', 'Card_Category': 'Blue', 'Months_on_book': 39, 'Total_Relationship_Count': 5, 'Months_Inactive_12_mon': 1, 'Contacts_Count_12_mon': 3, 'Credit_Limit': 12691.0, 'Total_Revolving_Bal': 777, 'Avg_Open_To_Buy': 11914.0, 'Total_Amt_Chng_Q4_Q1': 1.335, 'Total_Trans_Amt': 1144, 'Total_Trans_Ct': 42, 'Total_Ct_Chng_Q4_Q1': 1.625, 'Avg_Utilization_Ratio': 0.061}, 'profile_id': 10}\n"
     ]
    }
   ],
   "source": [
    "for record in data2['Records']:\n",
    "    encoded_data = record['kinesis']['data']\n",
    "    print(encoded_data)\n",
    "    event = base64_decode(encoded_data)\n",
    "\n",
    "    print(event)\n",
    "    #profile = event['profile']\n",
    "    #profile_id = event['profile_id']"
   ]
  },
  {
   "cell_type": "code",
   "execution_count": 7,
   "metadata": {},
   "outputs": [
    {
     "name": "stdout",
     "output_type": "stream",
     "text": [
      "{'profile': {'Customer_Age': 45, 'Gender': 'M', 'Dependent_count': 3, 'Education_Level': 'High School', 'Marital_Status': 'Married', 'Income_Category': '$60K - $80K', 'Card_Category': 'Blue', 'Months_on_book': 39, 'Total_Relationship_Count': 5, 'Months_Inactive_12_mon': 1, 'Contacts_Count_12_mon': 3, 'Credit_Limit': 12691.0, 'Total_Revolving_Bal': 777, 'Avg_Open_To_Buy': 11914.0, 'Total_Amt_Chng_Q4_Q1': 1.335, 'Total_Trans_Amt': 1144, 'Total_Trans_Ct': 42, 'Total_Ct_Chng_Q4_Q1': 1.625, 'Avg_Utilization_Ratio': 0.061}, 'profile_id': 10}\n"
     ]
    },
    {
     "data": {
      "text/plain": [
       "{'predictions': [{'model': 'Credit_Card_Churn_Prediction',\n",
       "   'version': '96a17ab73a2645a2b7ecfeb4ef7cd6cd',\n",
       "   'prediction': {'Churn_Prediction': 'Existing Customer', 'profile_id': 10}}]}"
      ]
     },
     "execution_count": 7,
     "metadata": {},
     "output_type": "execute_result"
    }
   ],
   "source": [
    "model_service.lambda_handler(data2)\n",
    "#result = lambda_function.lambda_handler(dat, None)"
   ]
  },
  {
   "cell_type": "code",
   "execution_count": 2,
   "metadata": {},
   "outputs": [
    {
     "name": "stdout",
     "output_type": "stream",
     "text": [
      "The Zen of Python, by Tim Peters\n",
      "\n",
      "Beautiful is better than ugly.\n",
      "Explicit is better than implicit.\n",
      "Simple is better than complex.\n",
      "Complex is better than complicated.\n",
      "Flat is better than nested.\n",
      "Sparse is better than dense.\n",
      "Readability counts.\n",
      "Special cases aren't special enough to break the rules.\n",
      "Although practicality beats purity.\n",
      "Errors should never pass silently.\n",
      "Unless explicitly silenced.\n",
      "In the face of ambiguity, refuse the temptation to guess.\n",
      "There should be one-- and preferably only one --obvious way to do it.\n",
      "Although that way may not be obvious at first unless you're Dutch.\n",
      "Now is better than never.\n",
      "Although never is often better than *right* now.\n",
      "If the implementation is hard to explain, it's a bad idea.\n",
      "If the implementation is easy to explain, it may be a good idea.\n",
      "Namespaces are one honking great idea -- let's do more of those!\n",
      "path s3://jai-mlops-data/1/None/artifacts/models_mlflow 1/None/artifacts/encoder\n",
      "1/None/artifacts/encoder/le_Gender.pkl\n"
     ]
    },
    {
     "ename": "NoSuchKey",
     "evalue": "An error occurred (NoSuchKey) when calling the GetObject operation: The specified key does not exist.",
     "output_type": "error",
     "traceback": [
      "\u001b[0;31m---------------------------------------------------------------------------\u001b[0m",
      "\u001b[0;31mNoSuchKey\u001b[0m                                 Traceback (most recent call last)",
      "\u001b[1;32m/home/ubuntu/MlopsZoomcampCourceProject/temp/test.ipynb Cell 13\u001b[0m in \u001b[0;36m<cell line: 1>\u001b[0;34m()\u001b[0m\n\u001b[0;32m----> <a href='vscode-notebook-cell://ssh-remote%2B34.201.53.77/home/ubuntu/MlopsZoomcampCourceProject/temp/test.ipynb#X14sdnNjb2RlLXJlbW90ZQ%3D%3D?line=0'>1</a>\u001b[0m \u001b[39mimport\u001b[39;00m \u001b[39mlambda_function\u001b[39;00m\n",
      "File \u001b[0;32m~/MlopsZoomcampCourceProject/temp/lambda_function.py:10\u001b[0m, in \u001b[0;36m<module>\u001b[0;34m\u001b[0m\n\u001b[1;32m      6\u001b[0m RUN_ID \u001b[39m=\u001b[39m os\u001b[39m.\u001b[39mgetenv(\u001b[39m'\u001b[39m\u001b[39mRUN_ID\u001b[39m\u001b[39m'\u001b[39m)\n\u001b[1;32m      7\u001b[0m TEST_RUN \u001b[39m=\u001b[39m os\u001b[39m.\u001b[39mgetenv(\u001b[39m'\u001b[39m\u001b[39mTEST_RUN\u001b[39m\u001b[39m'\u001b[39m, \u001b[39m'\u001b[39m\u001b[39mFalse\u001b[39m\u001b[39m'\u001b[39m) \u001b[39m==\u001b[39m \u001b[39m'\u001b[39m\u001b[39mTrue\u001b[39m\u001b[39m'\u001b[39m\n\u001b[0;32m---> 10\u001b[0m model_service \u001b[39m=\u001b[39m model\u001b[39m.\u001b[39;49minit(\n\u001b[1;32m     11\u001b[0m     prediction_stream_name\u001b[39m=\u001b[39;49mPREDICTIONS_STREAM_NAME,\n\u001b[1;32m     12\u001b[0m     run_id\u001b[39m=\u001b[39;49mRUN_ID,\n\u001b[1;32m     13\u001b[0m     test_run\u001b[39m=\u001b[39;49mTEST_RUN,\n\u001b[1;32m     14\u001b[0m )\n\u001b[1;32m     17\u001b[0m \u001b[39mdef\u001b[39;00m \u001b[39mlambda_handler\u001b[39m(event, context):\n\u001b[1;32m     18\u001b[0m     \u001b[39m# pylint: disable=unused-argument\u001b[39;00m\n\u001b[1;32m     19\u001b[0m     \u001b[39mreturn\u001b[39;00m model_service\u001b[39m.\u001b[39mlambda_handler(event)\n",
      "File \u001b[0;32m~/MlopsZoomcampCourceProject/temp/model.py:190\u001b[0m, in \u001b[0;36minit\u001b[0;34m(prediction_stream_name, run_id, test_run)\u001b[0m\n\u001b[1;32m    189\u001b[0m \u001b[39mdef\u001b[39;00m \u001b[39minit\u001b[39m(prediction_stream_name: \u001b[39mstr\u001b[39m, run_id: \u001b[39mstr\u001b[39m, test_run: \u001b[39mbool\u001b[39m):\n\u001b[0;32m--> 190\u001b[0m     model,le_Gender,le_Education_Level,le_Marital_Status,le_Income_Category,le_Card_Category \u001b[39m=\u001b[39m load_model(run_id)\n\u001b[1;32m    192\u001b[0m     callbacks \u001b[39m=\u001b[39m []\n\u001b[1;32m    194\u001b[0m     \u001b[39mif\u001b[39;00m \u001b[39mnot\u001b[39;00m test_run:\n",
      "File \u001b[0;32m~/MlopsZoomcampCourceProject/temp/model.py:84\u001b[0m, in \u001b[0;36mload_model\u001b[0;34m(run_id)\u001b[0m\n\u001b[1;32m     80\u001b[0m artifact_path \u001b[39m=\u001b[39m get_model_artifact_location(run_id)\n\u001b[1;32m     82\u001b[0m \u001b[39mprint\u001b[39m(\u001b[39m\"\u001b[39m\u001b[39mpath\u001b[39m\u001b[39m\"\u001b[39m,model_path,artifact_path)\n\u001b[0;32m---> 84\u001b[0m le_Gender\u001b[39m=\u001b[39m get_artifact_encoder(os\u001b[39m.\u001b[39;49mpath\u001b[39m.\u001b[39;49mjoin(artifact_path, \u001b[39m\"\u001b[39;49m\u001b[39mle_Gender.pkl\u001b[39;49m\u001b[39m\"\u001b[39;49m))\n\u001b[1;32m     85\u001b[0m le_Education_Level\u001b[39m=\u001b[39m get_artifact_encoder(os\u001b[39m.\u001b[39mpath\u001b[39m.\u001b[39mjoin(artifact_path, \u001b[39m\"\u001b[39m\u001b[39mle_Education_Level.pkl\u001b[39m\u001b[39m\"\u001b[39m))\n\u001b[1;32m     86\u001b[0m le_Marital_Status\u001b[39m=\u001b[39m get_artifact_encoder(os\u001b[39m.\u001b[39mpath\u001b[39m.\u001b[39mjoin(artifact_path, \u001b[39m\"\u001b[39m\u001b[39mle_Marital_Status.pkl\u001b[39m\u001b[39m\"\u001b[39m))\n",
      "File \u001b[0;32m~/MlopsZoomcampCourceProject/temp/model.py:70\u001b[0m, in \u001b[0;36mget_artifact_encoder\u001b[0;34m(artifact_path)\u001b[0m\n\u001b[1;32m     62\u001b[0m \u001b[39mprint\u001b[39m(artifact_path)\n\u001b[1;32m     64\u001b[0m s3client \u001b[39m=\u001b[39m boto3\u001b[39m.\u001b[39mclient(\u001b[39m'\u001b[39m\u001b[39ms3\u001b[39m\u001b[39m'\u001b[39m, \n\u001b[1;32m     65\u001b[0m                         aws_access_key_id \u001b[39m=\u001b[39m ACCESS_KEY, \n\u001b[1;32m     66\u001b[0m                         aws_secret_access_key \u001b[39m=\u001b[39m SECRET_KEY, \n\u001b[1;32m     67\u001b[0m                         aws_session_token \u001b[39m=\u001b[39m SESSION_TOKEN\n\u001b[1;32m     68\u001b[0m                        )\n\u001b[0;32m---> 70\u001b[0m response \u001b[39m=\u001b[39m s3client\u001b[39m.\u001b[39;49mget_object(Bucket\u001b[39m=\u001b[39;49m\u001b[39m'\u001b[39;49m\u001b[39mjai-mlops-data\u001b[39;49m\u001b[39m'\u001b[39;49m, Key\u001b[39m=\u001b[39;49martifact_path)\n\u001b[1;32m     72\u001b[0m body \u001b[39m=\u001b[39m response[\u001b[39m'\u001b[39m\u001b[39mBody\u001b[39m\u001b[39m'\u001b[39m]\u001b[39m.\u001b[39mread()\n\u001b[1;32m     73\u001b[0m data \u001b[39m=\u001b[39m pickle\u001b[39m.\u001b[39mloads(body)\n",
      "File \u001b[0;32m~/.local/share/virtualenvs/temp-cdbZQKCD/lib/python3.9/site-packages/botocore/client.py:508\u001b[0m, in \u001b[0;36mClientCreator._create_api_method.<locals>._api_call\u001b[0;34m(self, *args, **kwargs)\u001b[0m\n\u001b[1;32m    504\u001b[0m     \u001b[39mraise\u001b[39;00m \u001b[39mTypeError\u001b[39;00m(\n\u001b[1;32m    505\u001b[0m         \u001b[39mf\u001b[39m\u001b[39m\"\u001b[39m\u001b[39m{\u001b[39;00mpy_operation_name\u001b[39m}\u001b[39;00m\u001b[39m() only accepts keyword arguments.\u001b[39m\u001b[39m\"\u001b[39m\n\u001b[1;32m    506\u001b[0m     )\n\u001b[1;32m    507\u001b[0m \u001b[39m# The \"self\" in this scope is referring to the BaseClient.\u001b[39;00m\n\u001b[0;32m--> 508\u001b[0m \u001b[39mreturn\u001b[39;00m \u001b[39mself\u001b[39;49m\u001b[39m.\u001b[39;49m_make_api_call(operation_name, kwargs)\n",
      "File \u001b[0;32m~/.local/share/virtualenvs/temp-cdbZQKCD/lib/python3.9/site-packages/botocore/client.py:915\u001b[0m, in \u001b[0;36mBaseClient._make_api_call\u001b[0;34m(self, operation_name, api_params)\u001b[0m\n\u001b[1;32m    913\u001b[0m     error_code \u001b[39m=\u001b[39m parsed_response\u001b[39m.\u001b[39mget(\u001b[39m\"\u001b[39m\u001b[39mError\u001b[39m\u001b[39m\"\u001b[39m, {})\u001b[39m.\u001b[39mget(\u001b[39m\"\u001b[39m\u001b[39mCode\u001b[39m\u001b[39m\"\u001b[39m)\n\u001b[1;32m    914\u001b[0m     error_class \u001b[39m=\u001b[39m \u001b[39mself\u001b[39m\u001b[39m.\u001b[39mexceptions\u001b[39m.\u001b[39mfrom_code(error_code)\n\u001b[0;32m--> 915\u001b[0m     \u001b[39mraise\u001b[39;00m error_class(parsed_response, operation_name)\n\u001b[1;32m    916\u001b[0m \u001b[39melse\u001b[39;00m:\n\u001b[1;32m    917\u001b[0m     \u001b[39mreturn\u001b[39;00m parsed_response\n",
      "\u001b[0;31mNoSuchKey\u001b[0m: An error occurred (NoSuchKey) when calling the GetObject operation: The specified key does not exist."
     ]
    }
   ],
   "source": [
    "import lambda_function"
   ]
  },
  {
   "cell_type": "code",
   "execution_count": null,
   "metadata": {},
   "outputs": [],
   "source": []
  }
 ],
 "metadata": {
  "kernelspec": {
   "display_name": "Python 3.9.12 ('temp-cdbZQKCD': pipenv)",
   "language": "python",
   "name": "python3"
  },
  "language_info": {
   "codemirror_mode": {
    "name": "ipython",
    "version": 3
   },
   "file_extension": ".py",
   "mimetype": "text/x-python",
   "name": "python",
   "nbconvert_exporter": "python",
   "pygments_lexer": "ipython3",
   "version": "3.9.12"
  },
  "orig_nbformat": 4,
  "vscode": {
   "interpreter": {
    "hash": "9347bc484ca4ff55a851b227cee198e3c60efdbfd28dbe63cbcb8f9e79d9b6df"
   }
  }
 },
 "nbformat": 4,
 "nbformat_minor": 2
}
