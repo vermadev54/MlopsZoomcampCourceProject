{
 "cells": [
  {
   "cell_type": "code",
   "execution_count": 5,
   "metadata": {},
   "outputs": [
    {
     "name": "stdout",
     "output_type": "stream",
     "text": [
      "The Zen of Python, by Tim Peters\n",
      "\n",
      "Beautiful is better than ugly.\n",
      "Explicit is better than implicit.\n",
      "Simple is better than complex.\n",
      "Complex is better than complicated.\n",
      "Flat is better than nested.\n",
      "Sparse is better than dense.\n",
      "Readability counts.\n",
      "Special cases aren't special enough to break the rules.\n",
      "Although practicality beats purity.\n",
      "Errors should never pass silently.\n",
      "Unless explicitly silenced.\n",
      "In the face of ambiguity, refuse the temptation to guess.\n",
      "There should be one-- and preferably only one --obvious way to do it.\n",
      "Although that way may not be obvious at first unless you're Dutch.\n",
      "Now is better than never.\n",
      "Although never is often better than *right* now.\n",
      "If the implementation is hard to explain, it's a bad idea.\n",
      "If the implementation is easy to explain, it may be a good idea.\n",
      "Namespaces are one honking great idea -- let's do more of those!\n",
      "path s3://jai-mlops-data/1/96a17ab73a2645a2b7ecfeb4ef7cd6cd/artifacts/models_mlflow 1/96a17ab73a2645a2b7ecfeb4ef7cd6cd/artifacts/encoder\n",
      "1/96a17ab73a2645a2b7ecfeb4ef7cd6cd/artifacts/encoder/le_Gender.pkl\n",
      "1/96a17ab73a2645a2b7ecfeb4ef7cd6cd/artifacts/encoder/le_Education_Level.pkl\n",
      "1/96a17ab73a2645a2b7ecfeb4ef7cd6cd/artifacts/encoder/le_Marital_Status.pkl\n",
      "1/96a17ab73a2645a2b7ecfeb4ef7cd6cd/artifacts/encoder/le_Income_Category.pkl\n",
      "1/96a17ab73a2645a2b7ecfeb4ef7cd6cd/artifacts/encoder/le_Card_Category.pkl\n"
     ]
    }
   ],
   "source": [
    "import os\n",
    "\n",
    "import model\n",
    "\n",
    "PREDICTIONS_STREAM_NAME = os.getenv('PREDICTIONS_STREAM_NAME', 'ride_predictions')\n",
    "\n",
    "\n",
    "RUN_ID='96a17ab73a2645a2b7ecfeb4ef7cd6cd'\n",
    "\n",
    "\n",
    "model_service = model.init(\n",
    "    prediction_stream_name=PREDICTIONS_STREAM_NAME,\n",
    "    run_id=RUN_ID,\n",
    "    test_run=True,\n",
    ")"
   ]
  },
  {
   "cell_type": "code",
   "execution_count": 2,
   "metadata": {},
   "outputs": [],
   "source": [
    "from model import *\n",
    "artifact_path = get_model_artifact_location(RUN_ID)"
   ]
  },
  {
   "cell_type": "code",
   "execution_count": 3,
   "metadata": {},
   "outputs": [
    {
     "data": {
      "text/plain": [
       "'1/96a17ab73a2645a2b7ecfeb4ef7cd6cd/artifacts/encoder'"
      ]
     },
     "execution_count": 3,
     "metadata": {},
     "output_type": "execute_result"
    }
   ],
   "source": [
    "artifact_path"
   ]
  },
  {
   "cell_type": "code",
   "execution_count": 4,
   "metadata": {},
   "outputs": [
    {
     "data": {
      "text/plain": [
       "'1/96a17ab73a2645a2b7ecfeb4ef7cd6cd/artifacts/encoder/le_Gender.pkl'"
      ]
     },
     "execution_count": 4,
     "metadata": {},
     "output_type": "execute_result"
    }
   ],
   "source": [
    "os.path.join(artifact_path, \"le_Gender.pkl\")"
   ]
  },
  {
   "cell_type": "code",
   "execution_count": 5,
   "metadata": {},
   "outputs": [
    {
     "name": "stdout",
     "output_type": "stream",
     "text": [
      "1/96a17ab73a2645a2b7ecfeb4ef7cd6cd/artifacts/encoder/le_Gender.pkl\n"
     ]
    },
    {
     "data": {
      "text/plain": [
       "LabelEncoder()"
      ]
     },
     "execution_count": 5,
     "metadata": {},
     "output_type": "execute_result"
    }
   ],
   "source": [
    "get_artifact_encoder(os.path.join(artifact_path, \"le_Gender.pkl\"))"
   ]
  },
  {
   "cell_type": "code",
   "execution_count": 6,
   "metadata": {},
   "outputs": [],
   "source": [
    "data= {\n",
    "    'profile':{\n",
    "                'Customer_Age': 45,\n",
    "                'Gender': 'M',\n",
    "                'Dependent_count': 3,\n",
    "                'Education_Level': 'High School',\n",
    "                'Marital_Status': 'Married',\n",
    "                'Income_Category': '$60K - $80K',\n",
    "                'Card_Category': 'Blue',\n",
    "                'Months_on_book': 39,\n",
    "                'Total_Relationship_Count': 5,\n",
    "                'Months_Inactive_12_mon': 1,\n",
    "                'Contacts_Count_12_mon': 3,\n",
    "                'Credit_Limit': 12691.0,\n",
    "                'Total_Revolving_Bal': 777,\n",
    "                'Avg_Open_To_Buy': 11914.0,\n",
    "                'Total_Amt_Chng_Q4_Q1': 1.335,\n",
    "                'Total_Trans_Amt': 1144,\n",
    "                'Total_Trans_Ct': 42,\n",
    "                'Total_Ct_Chng_Q4_Q1': 1.625,\n",
    "                'Avg_Utilization_Ratio': 0.061},\n",
    "    'profile_id':10\n",
    "\n",
    " }\n",
    "\n",
    "\n"
   ]
  },
  {
   "cell_type": "code",
   "execution_count": 7,
   "metadata": {},
   "outputs": [
    {
     "data": {
      "text/plain": [
       "'{\"profile\": {\"Customer_Age\": 45, \"Gender\": \"M\", \"Dependent_count\": 3, \"Education_Level\": \"High School\", \"Marital_Status\": \"Married\", \"Income_Category\": \"$60K - $80K\", \"Card_Category\": \"Blue\", \"Months_on_book\": 39, \"Total_Relationship_Count\": 5, \"Months_Inactive_12_mon\": 1, \"Contacts_Count_12_mon\": 3, \"Credit_Limit\": 12691.0, \"Total_Revolving_Bal\": 777, \"Avg_Open_To_Buy\": 11914.0, \"Total_Amt_Chng_Q4_Q1\": 1.335, \"Total_Trans_Amt\": 1144, \"Total_Trans_Ct\": 42, \"Total_Ct_Chng_Q4_Q1\": 1.625, \"Avg_Utilization_Ratio\": 0.061}, \"profile_id\": 10}'"
      ]
     },
     "execution_count": 7,
     "metadata": {},
     "output_type": "execute_result"
    }
   ],
   "source": [
    "json.dumps(data)"
   ]
  },
  {
   "cell_type": "code",
   "execution_count": 12,
   "metadata": {},
   "outputs": [
    {
     "data": {
      "text/plain": [
       "{'Customer_Age': 45,\n",
       " 'Dependent_count': 3,\n",
       " 'Months_on_book': 39,\n",
       " 'Total_Relationship_Count': 5,\n",
       " 'Months_Inactive_12_mon': 1,\n",
       " 'Contacts_Count_12_mon': 3,\n",
       " 'Credit_Limit': 12691.0,\n",
       " 'Total_Revolving_Bal': 777,\n",
       " 'Avg_Open_To_Buy': 11914.0,\n",
       " 'Total_Amt_Chng_Q4_Q1': 1.335,\n",
       " 'Total_Trans_Amt': 1144,\n",
       " 'Total_Trans_Ct': 42,\n",
       " 'Total_Ct_Chng_Q4_Q1': 1.625,\n",
       " 'Avg_Utilization_Ratio': 0.061,\n",
       " 'Gender_n': 1,\n",
       " 'Education_Level_n': 3,\n",
       " 'Marital_Status_n': 1,\n",
       " 'Income_Category_n': 2,\n",
       " 'Card_Category_n': 0}"
      ]
     },
     "execution_count": 12,
     "metadata": {},
     "output_type": "execute_result"
    }
   ],
   "source": [
    "model_service.prepare_features(data[\"profile\"])"
   ]
  },
  {
   "cell_type": "code",
   "execution_count": 9,
   "metadata": {},
   "outputs": [
    {
     "ename": "NameError",
     "evalue": "name 'feature' is not defined",
     "output_type": "error",
     "traceback": [
      "\u001b[0;31m---------------------------------------------------------------------------\u001b[0m",
      "\u001b[0;31mNameError\u001b[0m                                 Traceback (most recent call last)",
      "\u001b[1;32m/home/ubuntu/MlopsZoomcampCourceProject/temp/test.ipynb Cell 9\u001b[0m in \u001b[0;36m<cell line: 1>\u001b[0;34m()\u001b[0m\n\u001b[0;32m----> <a href='vscode-notebook-cell://ssh-remote%2B44.203.124.75/home/ubuntu/MlopsZoomcampCourceProject/temp/test.ipynb#X11sdnNjb2RlLXJlbW90ZQ%3D%3D?line=0'>1</a>\u001b[0m model_service\u001b[39m.\u001b[39mpredict(feature)\n",
      "\u001b[0;31mNameError\u001b[0m: name 'feature' is not defined"
     ]
    }
   ],
   "source": [
    "model_service.predict(feature)"
   ]
  },
  {
   "cell_type": "code",
   "execution_count": 4,
   "metadata": {},
   "outputs": [],
   "source": [
    "data2 = {\n",
    "    \"Records\": [\n",
    "        {\n",
    "            \"kinesis\": {\n",
    "                \"kinesisSchemaVersion\": \"1.0\",\n",
    "                \"partitionKey\": \"1\",\n",
    "                \"sequenceNumber\": \"49632672741856698858034338568813035242133890721111867394\",\n",
    "                \"data\": \"eyJwcm9maWxlIjogeyJDdXN0b21lcl9BZ2UiOiA0NSwgIkdlbmRlciI6ICJNIiwgIkRlcGVuZGVudF9jb3VudCI6IDMsICJFZHVjYXRpb25fTGV2ZWwiOiAiSGlnaCBTY2hvb2wiLCAiTWFyaXRhbF9TdGF0dXMiOiAiTWFycmllZCIsICJJbmNvbWVfQ2F0ZWdvcnkiOiAiJDYwSyAtICQ4MEsiLCAiQ2FyZF9DYXRlZ29yeSI6ICJCbHVlIiwgIk1vbnRoc19vbl9ib29rIjogMzksICJUb3RhbF9SZWxhdGlvbnNoaXBfQ291bnQiOiA1LCAiTW9udGhzX0luYWN0aXZlXzEyX21vbiI6IDEsICJDb250YWN0c19Db3VudF8xMl9tb24iOiAzLCAiQ3JlZGl0X0xpbWl0IjogMTI2OTEuMCwgIlRvdGFsX1Jldm9sdmluZ19CYWwiOiA3NzcsICJBdmdfT3Blbl9Ub19CdXkiOiAxMTkxNC4wLCAiVG90YWxfQW10X0NobmdfUTRfUTEiOiAxLjMzNSwgIlRvdGFsX1RyYW5zX0FtdCI6IDExNDQsICJUb3RhbF9UcmFuc19DdCI6IDQyLCAiVG90YWxfQ3RfQ2huZ19RNF9RMSI6IDEuNjI1LCAiQXZnX1V0aWxpemF0aW9uX1JhdGlvIjogMC4wNjF9LCAicHJvZmlsZV9pZCI6IDEwfQ==\",\n",
    "                \"approximateArrivalTimestamp\": 1661424222.822\n",
    "            },\n",
    "            \"eventSource\": \"aws:kinesis\",\n",
    "            \"eventVersion\": \"1.0\",\n",
    "            \"eventID\": \"shardId-000000000000:49632672741856698858034338568813035242133890721111867394\",\n",
    "            \"eventName\": \"aws:kinesis:record\",\n",
    "            \"invokeIdentityArn\": \"arn:aws:iam::818606151817:role/lambda-kinesis-role\",\n",
    "            \"awsRegion\": \"us-east-1\",\n",
    "            \"eventSourceARN\": \"arn:aws:kinesis:us-east-1:818606151817:stream/profile_predictions\"\n",
    "        }\n",
    "    ]\n",
    "}"
   ]
  },
  {
   "cell_type": "code",
   "execution_count": 54,
   "metadata": {},
   "outputs": [
    {
     "name": "stdout",
     "output_type": "stream",
     "text": [
      "eyJwcm9maWxlIjogeyJDdXN0b21lcl9BZ2UiOiA0NSwgIkdlbmRlciI6ICJNIiwgIkRlcGVuZGVudF9jb3VudCI6IDMsICJFZHVjYXRpb25fTGV2ZWwiOiAiSGlnaCBTY2hvb2wiLCAiTWFyaXRhbF9TdGF0dXMiOiAiTWFycmllZCIsICJJbmNvbWVfQ2F0ZWdvcnkiOiAiJDYwSyAtICQ4MEsiLCAiQ2FyZF9DYXRlZ29yeSI6ICJCbHVlIiwgIk1vbnRoc19vbl9ib29rIjogMzksICJUb3RhbF9SZWxhdGlvbnNoaXBfQ291bnQiOiA1LCAiTW9udGhzX0luYWN0aXZlXzEyX21vbiI6IDEsICJDb250YWN0c19Db3VudF8xMl9tb24iOiAzLCAiQ3JlZGl0X0xpbWl0IjogMTI2OTEuMCwgIlRvdGFsX1Jldm9sdmluZ19CYWwiOiA3NzcsICJBdmdfT3Blbl9Ub19CdXkiOiAxMTkxNC4wLCAiVG90YWxfQW10X0NobmdfUTRfUTEiOiAxLjMzNSwgIlRvdGFsX1RyYW5zX0FtdCI6IDExNDQsICJUb3RhbF9UcmFuc19DdCI6IDQyLCAiVG90YWxfQ3RfQ2huZ19RNF9RMSI6IDEuNjI1LCAiQXZnX1V0aWxpemF0aW9uX1JhdGlvIjogMC4wNjF9LCAicHJvZmlsZV9pZCI6IDEwfQ==\n",
      "{'profile': {'Customer_Age': 45, 'Gender': 'M', 'Dependent_count': 3, 'Education_Level': 'High School', 'Marital_Status': 'Married', 'Income_Category': '$60K - $80K', 'Card_Category': 'Blue', 'Months_on_book': 39, 'Total_Relationship_Count': 5, 'Months_Inactive_12_mon': 1, 'Contacts_Count_12_mon': 3, 'Credit_Limit': 12691.0, 'Total_Revolving_Bal': 777, 'Avg_Open_To_Buy': 11914.0, 'Total_Amt_Chng_Q4_Q1': 1.335, 'Total_Trans_Amt': 1144, 'Total_Trans_Ct': 42, 'Total_Ct_Chng_Q4_Q1': 1.625, 'Avg_Utilization_Ratio': 0.061}, 'profile_id': 10}\n"
     ]
    }
   ],
   "source": [
    "for record in data2['Records']:\n",
    "    encoded_data = record['kinesis']['data']\n",
    "    print(encoded_data)\n",
    "    event = base64_decode(encoded_data)\n",
    "\n",
    "    print(event)\n",
    "    #profile = event['profile']\n",
    "    #profile_id = event['profile_id']"
   ]
  },
  {
   "cell_type": "code",
   "execution_count": 7,
   "metadata": {},
   "outputs": [
    {
     "name": "stdout",
     "output_type": "stream",
     "text": [
      "{'profile': {'Customer_Age': 45, 'Gender': 'M', 'Dependent_count': 3, 'Education_Level': 'High School', 'Marital_Status': 'Married', 'Income_Category': '$60K - $80K', 'Card_Category': 'Blue', 'Months_on_book': 39, 'Total_Relationship_Count': 5, 'Months_Inactive_12_mon': 1, 'Contacts_Count_12_mon': 3, 'Credit_Limit': 12691.0, 'Total_Revolving_Bal': 777, 'Avg_Open_To_Buy': 11914.0, 'Total_Amt_Chng_Q4_Q1': 1.335, 'Total_Trans_Amt': 1144, 'Total_Trans_Ct': 42, 'Total_Ct_Chng_Q4_Q1': 1.625, 'Avg_Utilization_Ratio': 0.061}, 'profile_id': 10}\n"
     ]
    },
    {
     "data": {
      "text/plain": [
       "{'predictions': [{'model': 'Credit_Card_Churn_Prediction',\n",
       "   'version': '96a17ab73a2645a2b7ecfeb4ef7cd6cd',\n",
       "   'prediction': {'Churn_Prediction': 'Existing Customer', 'profile_id': 10}}]}"
      ]
     },
     "execution_count": 7,
     "metadata": {},
     "output_type": "execute_result"
    }
   ],
   "source": [
    "model_service.lambda_handler(data2)\n",
    "#result = lambda_function.lambda_handler(dat, None)"
   ]
  },
  {
   "cell_type": "code",
   "execution_count": 2,
   "metadata": {},
   "outputs": [
    {
     "name": "stdout",
     "output_type": "stream",
     "text": [
      "The Zen of Python, by Tim Peters\n",
      "\n",
      "Beautiful is better than ugly.\n",
      "Explicit is better than implicit.\n",
      "Simple is better than complex.\n",
      "Complex is better than complicated.\n",
      "Flat is better than nested.\n",
      "Sparse is better than dense.\n",
      "Readability counts.\n",
      "Special cases aren't special enough to break the rules.\n",
      "Although practicality beats purity.\n",
      "Errors should never pass silently.\n",
      "Unless explicitly silenced.\n",
      "In the face of ambiguity, refuse the temptation to guess.\n",
      "There should be one-- and preferably only one --obvious way to do it.\n",
      "Although that way may not be obvious at first unless you're Dutch.\n",
      "Now is better than never.\n",
      "Although never is often better than *right* now.\n",
      "If the implementation is hard to explain, it's a bad idea.\n",
      "If the implementation is easy to explain, it may be a good idea.\n",
      "Namespaces are one honking great idea -- let's do more of those!\n",
      "path s3://jai-mlops-data/1/None/artifacts/models_mlflow 1/None/artifacts/encoder\n",
      "1/None/artifacts/encoder/le_Gender.pkl\n"
     ]
    },
    {
     "ename": "NoSuchKey",
     "evalue": "An error occurred (NoSuchKey) when calling the GetObject operation: The specified key does not exist.",
     "output_type": "error",
     "traceback": [
      "\u001b[0;31m---------------------------------------------------------------------------\u001b[0m",
      "\u001b[0;31mNoSuchKey\u001b[0m                                 Traceback (most recent call last)",
      "\u001b[1;32m/home/ubuntu/MlopsZoomcampCourceProject/temp/test.ipynb Cell 13\u001b[0m in \u001b[0;36m<cell line: 1>\u001b[0;34m()\u001b[0m\n\u001b[0;32m----> <a href='vscode-notebook-cell://ssh-remote%2B34.201.53.77/home/ubuntu/MlopsZoomcampCourceProject/temp/test.ipynb#X14sdnNjb2RlLXJlbW90ZQ%3D%3D?line=0'>1</a>\u001b[0m \u001b[39mimport\u001b[39;00m \u001b[39mlambda_function\u001b[39;00m\n",
      "File \u001b[0;32m~/MlopsZoomcampCourceProject/temp/lambda_function.py:10\u001b[0m, in \u001b[0;36m<module>\u001b[0;34m\u001b[0m\n\u001b[1;32m      6\u001b[0m RUN_ID \u001b[39m=\u001b[39m os\u001b[39m.\u001b[39mgetenv(\u001b[39m'\u001b[39m\u001b[39mRUN_ID\u001b[39m\u001b[39m'\u001b[39m)\n\u001b[1;32m      7\u001b[0m TEST_RUN \u001b[39m=\u001b[39m os\u001b[39m.\u001b[39mgetenv(\u001b[39m'\u001b[39m\u001b[39mTEST_RUN\u001b[39m\u001b[39m'\u001b[39m, \u001b[39m'\u001b[39m\u001b[39mFalse\u001b[39m\u001b[39m'\u001b[39m) \u001b[39m==\u001b[39m \u001b[39m'\u001b[39m\u001b[39mTrue\u001b[39m\u001b[39m'\u001b[39m\n\u001b[0;32m---> 10\u001b[0m model_service \u001b[39m=\u001b[39m model\u001b[39m.\u001b[39;49minit(\n\u001b[1;32m     11\u001b[0m     prediction_stream_name\u001b[39m=\u001b[39;49mPREDICTIONS_STREAM_NAME,\n\u001b[1;32m     12\u001b[0m     run_id\u001b[39m=\u001b[39;49mRUN_ID,\n\u001b[1;32m     13\u001b[0m     test_run\u001b[39m=\u001b[39;49mTEST_RUN,\n\u001b[1;32m     14\u001b[0m )\n\u001b[1;32m     17\u001b[0m \u001b[39mdef\u001b[39;00m \u001b[39mlambda_handler\u001b[39m(event, context):\n\u001b[1;32m     18\u001b[0m     \u001b[39m# pylint: disable=unused-argument\u001b[39;00m\n\u001b[1;32m     19\u001b[0m     \u001b[39mreturn\u001b[39;00m model_service\u001b[39m.\u001b[39mlambda_handler(event)\n",
      "File \u001b[0;32m~/MlopsZoomcampCourceProject/temp/model.py:190\u001b[0m, in \u001b[0;36minit\u001b[0;34m(prediction_stream_name, run_id, test_run)\u001b[0m\n\u001b[1;32m    189\u001b[0m \u001b[39mdef\u001b[39;00m \u001b[39minit\u001b[39m(prediction_stream_name: \u001b[39mstr\u001b[39m, run_id: \u001b[39mstr\u001b[39m, test_run: \u001b[39mbool\u001b[39m):\n\u001b[0;32m--> 190\u001b[0m     model,le_Gender,le_Education_Level,le_Marital_Status,le_Income_Category,le_Card_Category \u001b[39m=\u001b[39m load_model(run_id)\n\u001b[1;32m    192\u001b[0m     callbacks \u001b[39m=\u001b[39m []\n\u001b[1;32m    194\u001b[0m     \u001b[39mif\u001b[39;00m \u001b[39mnot\u001b[39;00m test_run:\n",
      "File \u001b[0;32m~/MlopsZoomcampCourceProject/temp/model.py:84\u001b[0m, in \u001b[0;36mload_model\u001b[0;34m(run_id)\u001b[0m\n\u001b[1;32m     80\u001b[0m artifact_path \u001b[39m=\u001b[39m get_model_artifact_location(run_id)\n\u001b[1;32m     82\u001b[0m \u001b[39mprint\u001b[39m(\u001b[39m\"\u001b[39m\u001b[39mpath\u001b[39m\u001b[39m\"\u001b[39m,model_path,artifact_path)\n\u001b[0;32m---> 84\u001b[0m le_Gender\u001b[39m=\u001b[39m get_artifact_encoder(os\u001b[39m.\u001b[39;49mpath\u001b[39m.\u001b[39;49mjoin(artifact_path, \u001b[39m\"\u001b[39;49m\u001b[39mle_Gender.pkl\u001b[39;49m\u001b[39m\"\u001b[39;49m))\n\u001b[1;32m     85\u001b[0m le_Education_Level\u001b[39m=\u001b[39m get_artifact_encoder(os\u001b[39m.\u001b[39mpath\u001b[39m.\u001b[39mjoin(artifact_path, \u001b[39m\"\u001b[39m\u001b[39mle_Education_Level.pkl\u001b[39m\u001b[39m\"\u001b[39m))\n\u001b[1;32m     86\u001b[0m le_Marital_Status\u001b[39m=\u001b[39m get_artifact_encoder(os\u001b[39m.\u001b[39mpath\u001b[39m.\u001b[39mjoin(artifact_path, \u001b[39m\"\u001b[39m\u001b[39mle_Marital_Status.pkl\u001b[39m\u001b[39m\"\u001b[39m))\n",
      "File \u001b[0;32m~/MlopsZoomcampCourceProject/temp/model.py:70\u001b[0m, in \u001b[0;36mget_artifact_encoder\u001b[0;34m(artifact_path)\u001b[0m\n\u001b[1;32m     62\u001b[0m \u001b[39mprint\u001b[39m(artifact_path)\n\u001b[1;32m     64\u001b[0m s3client \u001b[39m=\u001b[39m boto3\u001b[39m.\u001b[39mclient(\u001b[39m'\u001b[39m\u001b[39ms3\u001b[39m\u001b[39m'\u001b[39m, \n\u001b[1;32m     65\u001b[0m                         aws_access_key_id \u001b[39m=\u001b[39m ACCESS_KEY, \n\u001b[1;32m     66\u001b[0m                         aws_secret_access_key \u001b[39m=\u001b[39m SECRET_KEY, \n\u001b[1;32m     67\u001b[0m                         aws_session_token \u001b[39m=\u001b[39m SESSION_TOKEN\n\u001b[1;32m     68\u001b[0m                        )\n\u001b[0;32m---> 70\u001b[0m response \u001b[39m=\u001b[39m s3client\u001b[39m.\u001b[39;49mget_object(Bucket\u001b[39m=\u001b[39;49m\u001b[39m'\u001b[39;49m\u001b[39mjai-mlops-data\u001b[39;49m\u001b[39m'\u001b[39;49m, Key\u001b[39m=\u001b[39;49martifact_path)\n\u001b[1;32m     72\u001b[0m body \u001b[39m=\u001b[39m response[\u001b[39m'\u001b[39m\u001b[39mBody\u001b[39m\u001b[39m'\u001b[39m]\u001b[39m.\u001b[39mread()\n\u001b[1;32m     73\u001b[0m data \u001b[39m=\u001b[39m pickle\u001b[39m.\u001b[39mloads(body)\n",
      "File \u001b[0;32m~/.local/share/virtualenvs/temp-cdbZQKCD/lib/python3.9/site-packages/botocore/client.py:508\u001b[0m, in \u001b[0;36mClientCreator._create_api_method.<locals>._api_call\u001b[0;34m(self, *args, **kwargs)\u001b[0m\n\u001b[1;32m    504\u001b[0m     \u001b[39mraise\u001b[39;00m \u001b[39mTypeError\u001b[39;00m(\n\u001b[1;32m    505\u001b[0m         \u001b[39mf\u001b[39m\u001b[39m\"\u001b[39m\u001b[39m{\u001b[39;00mpy_operation_name\u001b[39m}\u001b[39;00m\u001b[39m() only accepts keyword arguments.\u001b[39m\u001b[39m\"\u001b[39m\n\u001b[1;32m    506\u001b[0m     )\n\u001b[1;32m    507\u001b[0m \u001b[39m# The \"self\" in this scope is referring to the BaseClient.\u001b[39;00m\n\u001b[0;32m--> 508\u001b[0m \u001b[39mreturn\u001b[39;00m \u001b[39mself\u001b[39;49m\u001b[39m.\u001b[39;49m_make_api_call(operation_name, kwargs)\n",
      "File \u001b[0;32m~/.local/share/virtualenvs/temp-cdbZQKCD/lib/python3.9/site-packages/botocore/client.py:915\u001b[0m, in \u001b[0;36mBaseClient._make_api_call\u001b[0;34m(self, operation_name, api_params)\u001b[0m\n\u001b[1;32m    913\u001b[0m     error_code \u001b[39m=\u001b[39m parsed_response\u001b[39m.\u001b[39mget(\u001b[39m\"\u001b[39m\u001b[39mError\u001b[39m\u001b[39m\"\u001b[39m, {})\u001b[39m.\u001b[39mget(\u001b[39m\"\u001b[39m\u001b[39mCode\u001b[39m\u001b[39m\"\u001b[39m)\n\u001b[1;32m    914\u001b[0m     error_class \u001b[39m=\u001b[39m \u001b[39mself\u001b[39m\u001b[39m.\u001b[39mexceptions\u001b[39m.\u001b[39mfrom_code(error_code)\n\u001b[0;32m--> 915\u001b[0m     \u001b[39mraise\u001b[39;00m error_class(parsed_response, operation_name)\n\u001b[1;32m    916\u001b[0m \u001b[39melse\u001b[39;00m:\n\u001b[1;32m    917\u001b[0m     \u001b[39mreturn\u001b[39;00m parsed_response\n",
      "\u001b[0;31mNoSuchKey\u001b[0m: An error occurred (NoSuchKey) when calling the GetObject operation: The specified key does not exist."
     ]
    }
   ],
   "source": [
    "import lambda_function"
   ]
  },
  {
   "cell_type": "code",
   "execution_count": 2,
   "metadata": {},
   "outputs": [],
   "source": [
    "\n",
    "import os\n",
    "import json\n",
    "from pprint import pprint\n",
    "\n",
    "import boto3\n",
    "\n",
    "\n",
    "kinesis_endpoint = os.getenv('KINESIS_ENDPOINT_URL', \"http://localhost:4566\")\n",
    "kinesis_client = boto3.client('kinesis', endpoint_url=kinesis_endpoint)\n",
    "\n"
   ]
  },
  {
   "cell_type": "code",
   "execution_count": 3,
   "metadata": {},
   "outputs": [],
   "source": [
    "stream_name = os.getenv('PREDICTIONS_STREAM_NAME', 'stg_credit_profile_predictions-credit_card_profile_prediction')\n",
    "shard_id = 'shardId-000000000000'"
   ]
  },
  {
   "cell_type": "code",
   "execution_count": 4,
   "metadata": {},
   "outputs": [
    {
     "ename": "EndpointConnectionError",
     "evalue": "Could not connect to the endpoint URL: \"http://localhost:4566/\"",
     "output_type": "error",
     "traceback": [
      "\u001b[0;31m---------------------------------------------------------------------------\u001b[0m",
      "\u001b[0;31mConnectionRefusedError\u001b[0m                    Traceback (most recent call last)",
      "File \u001b[0;32m~/.local/share/virtualenvs/temp-cdbZQKCD/lib/python3.9/site-packages/urllib3/connection.py:174\u001b[0m, in \u001b[0;36mHTTPConnection._new_conn\u001b[0;34m(self)\u001b[0m\n\u001b[1;32m    173\u001b[0m \u001b[39mtry\u001b[39;00m:\n\u001b[0;32m--> 174\u001b[0m     conn \u001b[39m=\u001b[39m connection\u001b[39m.\u001b[39;49mcreate_connection(\n\u001b[1;32m    175\u001b[0m         (\u001b[39mself\u001b[39;49m\u001b[39m.\u001b[39;49m_dns_host, \u001b[39mself\u001b[39;49m\u001b[39m.\u001b[39;49mport), \u001b[39mself\u001b[39;49m\u001b[39m.\u001b[39;49mtimeout, \u001b[39m*\u001b[39;49m\u001b[39m*\u001b[39;49mextra_kw\n\u001b[1;32m    176\u001b[0m     )\n\u001b[1;32m    178\u001b[0m \u001b[39mexcept\u001b[39;00m SocketTimeout:\n",
      "File \u001b[0;32m~/.local/share/virtualenvs/temp-cdbZQKCD/lib/python3.9/site-packages/urllib3/util/connection.py:95\u001b[0m, in \u001b[0;36mcreate_connection\u001b[0;34m(address, timeout, source_address, socket_options)\u001b[0m\n\u001b[1;32m     94\u001b[0m \u001b[39mif\u001b[39;00m err \u001b[39mis\u001b[39;00m \u001b[39mnot\u001b[39;00m \u001b[39mNone\u001b[39;00m:\n\u001b[0;32m---> 95\u001b[0m     \u001b[39mraise\u001b[39;00m err\n\u001b[1;32m     97\u001b[0m \u001b[39mraise\u001b[39;00m socket\u001b[39m.\u001b[39merror(\u001b[39m\"\u001b[39m\u001b[39mgetaddrinfo returns an empty list\u001b[39m\u001b[39m\"\u001b[39m)\n",
      "File \u001b[0;32m~/.local/share/virtualenvs/temp-cdbZQKCD/lib/python3.9/site-packages/urllib3/util/connection.py:85\u001b[0m, in \u001b[0;36mcreate_connection\u001b[0;34m(address, timeout, source_address, socket_options)\u001b[0m\n\u001b[1;32m     84\u001b[0m     sock\u001b[39m.\u001b[39mbind(source_address)\n\u001b[0;32m---> 85\u001b[0m sock\u001b[39m.\u001b[39;49mconnect(sa)\n\u001b[1;32m     86\u001b[0m \u001b[39mreturn\u001b[39;00m sock\n",
      "\u001b[0;31mConnectionRefusedError\u001b[0m: [Errno 111] Connection refused",
      "\nDuring handling of the above exception, another exception occurred:\n",
      "\u001b[0;31mNewConnectionError\u001b[0m                        Traceback (most recent call last)",
      "File \u001b[0;32m~/.local/share/virtualenvs/temp-cdbZQKCD/lib/python3.9/site-packages/botocore/httpsession.py:448\u001b[0m, in \u001b[0;36mURLLib3Session.send\u001b[0;34m(self, request)\u001b[0m\n\u001b[1;32m    447\u001b[0m request_target \u001b[39m=\u001b[39m \u001b[39mself\u001b[39m\u001b[39m.\u001b[39m_get_request_target(request\u001b[39m.\u001b[39murl, proxy_url)\n\u001b[0;32m--> 448\u001b[0m urllib_response \u001b[39m=\u001b[39m conn\u001b[39m.\u001b[39;49murlopen(\n\u001b[1;32m    449\u001b[0m     method\u001b[39m=\u001b[39;49mrequest\u001b[39m.\u001b[39;49mmethod,\n\u001b[1;32m    450\u001b[0m     url\u001b[39m=\u001b[39;49mrequest_target,\n\u001b[1;32m    451\u001b[0m     body\u001b[39m=\u001b[39;49mrequest\u001b[39m.\u001b[39;49mbody,\n\u001b[1;32m    452\u001b[0m     headers\u001b[39m=\u001b[39;49mrequest\u001b[39m.\u001b[39;49mheaders,\n\u001b[1;32m    453\u001b[0m     retries\u001b[39m=\u001b[39;49mRetry(\u001b[39mFalse\u001b[39;49;00m),\n\u001b[1;32m    454\u001b[0m     assert_same_host\u001b[39m=\u001b[39;49m\u001b[39mFalse\u001b[39;49;00m,\n\u001b[1;32m    455\u001b[0m     preload_content\u001b[39m=\u001b[39;49m\u001b[39mFalse\u001b[39;49;00m,\n\u001b[1;32m    456\u001b[0m     decode_content\u001b[39m=\u001b[39;49m\u001b[39mFalse\u001b[39;49;00m,\n\u001b[1;32m    457\u001b[0m     chunked\u001b[39m=\u001b[39;49m\u001b[39mself\u001b[39;49m\u001b[39m.\u001b[39;49m_chunked(request\u001b[39m.\u001b[39;49mheaders),\n\u001b[1;32m    458\u001b[0m )\n\u001b[1;32m    460\u001b[0m http_response \u001b[39m=\u001b[39m botocore\u001b[39m.\u001b[39mawsrequest\u001b[39m.\u001b[39mAWSResponse(\n\u001b[1;32m    461\u001b[0m     request\u001b[39m.\u001b[39murl,\n\u001b[1;32m    462\u001b[0m     urllib_response\u001b[39m.\u001b[39mstatus,\n\u001b[1;32m    463\u001b[0m     urllib_response\u001b[39m.\u001b[39mheaders,\n\u001b[1;32m    464\u001b[0m     urllib_response,\n\u001b[1;32m    465\u001b[0m )\n",
      "File \u001b[0;32m~/.local/share/virtualenvs/temp-cdbZQKCD/lib/python3.9/site-packages/urllib3/connectionpool.py:787\u001b[0m, in \u001b[0;36mHTTPConnectionPool.urlopen\u001b[0;34m(self, method, url, body, headers, retries, redirect, assert_same_host, timeout, pool_timeout, release_conn, chunked, body_pos, **response_kw)\u001b[0m\n\u001b[1;32m    785\u001b[0m     e \u001b[39m=\u001b[39m ProtocolError(\u001b[39m\"\u001b[39m\u001b[39mConnection aborted.\u001b[39m\u001b[39m\"\u001b[39m, e)\n\u001b[0;32m--> 787\u001b[0m retries \u001b[39m=\u001b[39m retries\u001b[39m.\u001b[39;49mincrement(\n\u001b[1;32m    788\u001b[0m     method, url, error\u001b[39m=\u001b[39;49me, _pool\u001b[39m=\u001b[39;49m\u001b[39mself\u001b[39;49m, _stacktrace\u001b[39m=\u001b[39;49msys\u001b[39m.\u001b[39;49mexc_info()[\u001b[39m2\u001b[39;49m]\n\u001b[1;32m    789\u001b[0m )\n\u001b[1;32m    790\u001b[0m retries\u001b[39m.\u001b[39msleep()\n",
      "File \u001b[0;32m~/.local/share/virtualenvs/temp-cdbZQKCD/lib/python3.9/site-packages/urllib3/util/retry.py:525\u001b[0m, in \u001b[0;36mRetry.increment\u001b[0;34m(self, method, url, response, error, _pool, _stacktrace)\u001b[0m\n\u001b[1;32m    523\u001b[0m \u001b[39mif\u001b[39;00m \u001b[39mself\u001b[39m\u001b[39m.\u001b[39mtotal \u001b[39mis\u001b[39;00m \u001b[39mFalse\u001b[39;00m \u001b[39mand\u001b[39;00m error:\n\u001b[1;32m    524\u001b[0m     \u001b[39m# Disabled, indicate to re-raise the error.\u001b[39;00m\n\u001b[0;32m--> 525\u001b[0m     \u001b[39mraise\u001b[39;00m six\u001b[39m.\u001b[39;49mreraise(\u001b[39mtype\u001b[39;49m(error), error, _stacktrace)\n\u001b[1;32m    527\u001b[0m total \u001b[39m=\u001b[39m \u001b[39mself\u001b[39m\u001b[39m.\u001b[39mtotal\n",
      "File \u001b[0;32m~/.local/share/virtualenvs/temp-cdbZQKCD/lib/python3.9/site-packages/urllib3/packages/six.py:770\u001b[0m, in \u001b[0;36mreraise\u001b[0;34m(tp, value, tb)\u001b[0m\n\u001b[1;32m    769\u001b[0m         \u001b[39mraise\u001b[39;00m value\u001b[39m.\u001b[39mwith_traceback(tb)\n\u001b[0;32m--> 770\u001b[0m     \u001b[39mraise\u001b[39;00m value\n\u001b[1;32m    771\u001b[0m \u001b[39mfinally\u001b[39;00m:\n",
      "File \u001b[0;32m~/.local/share/virtualenvs/temp-cdbZQKCD/lib/python3.9/site-packages/urllib3/connectionpool.py:703\u001b[0m, in \u001b[0;36mHTTPConnectionPool.urlopen\u001b[0;34m(self, method, url, body, headers, retries, redirect, assert_same_host, timeout, pool_timeout, release_conn, chunked, body_pos, **response_kw)\u001b[0m\n\u001b[1;32m    702\u001b[0m \u001b[39m# Make the request on the httplib connection object.\u001b[39;00m\n\u001b[0;32m--> 703\u001b[0m httplib_response \u001b[39m=\u001b[39m \u001b[39mself\u001b[39;49m\u001b[39m.\u001b[39;49m_make_request(\n\u001b[1;32m    704\u001b[0m     conn,\n\u001b[1;32m    705\u001b[0m     method,\n\u001b[1;32m    706\u001b[0m     url,\n\u001b[1;32m    707\u001b[0m     timeout\u001b[39m=\u001b[39;49mtimeout_obj,\n\u001b[1;32m    708\u001b[0m     body\u001b[39m=\u001b[39;49mbody,\n\u001b[1;32m    709\u001b[0m     headers\u001b[39m=\u001b[39;49mheaders,\n\u001b[1;32m    710\u001b[0m     chunked\u001b[39m=\u001b[39;49mchunked,\n\u001b[1;32m    711\u001b[0m )\n\u001b[1;32m    713\u001b[0m \u001b[39m# If we're going to release the connection in ``finally:``, then\u001b[39;00m\n\u001b[1;32m    714\u001b[0m \u001b[39m# the response doesn't need to know about the connection. Otherwise\u001b[39;00m\n\u001b[1;32m    715\u001b[0m \u001b[39m# it will also try to release it and we'll have a double-release\u001b[39;00m\n\u001b[1;32m    716\u001b[0m \u001b[39m# mess.\u001b[39;00m\n",
      "File \u001b[0;32m~/.local/share/virtualenvs/temp-cdbZQKCD/lib/python3.9/site-packages/urllib3/connectionpool.py:398\u001b[0m, in \u001b[0;36mHTTPConnectionPool._make_request\u001b[0;34m(self, conn, method, url, timeout, chunked, **httplib_request_kw)\u001b[0m\n\u001b[1;32m    397\u001b[0m     \u001b[39melse\u001b[39;00m:\n\u001b[0;32m--> 398\u001b[0m         conn\u001b[39m.\u001b[39;49mrequest(method, url, \u001b[39m*\u001b[39;49m\u001b[39m*\u001b[39;49mhttplib_request_kw)\n\u001b[1;32m    400\u001b[0m \u001b[39m# We are swallowing BrokenPipeError (errno.EPIPE) since the server is\u001b[39;00m\n\u001b[1;32m    401\u001b[0m \u001b[39m# legitimately able to close the connection after sending a valid response.\u001b[39;00m\n\u001b[1;32m    402\u001b[0m \u001b[39m# With this behaviour, the received response is still readable.\u001b[39;00m\n",
      "File \u001b[0;32m~/.local/share/virtualenvs/temp-cdbZQKCD/lib/python3.9/site-packages/urllib3/connection.py:239\u001b[0m, in \u001b[0;36mHTTPConnection.request\u001b[0;34m(self, method, url, body, headers)\u001b[0m\n\u001b[1;32m    238\u001b[0m     headers[\u001b[39m\"\u001b[39m\u001b[39mUser-Agent\u001b[39m\u001b[39m\"\u001b[39m] \u001b[39m=\u001b[39m _get_default_user_agent()\n\u001b[0;32m--> 239\u001b[0m \u001b[39msuper\u001b[39;49m(HTTPConnection, \u001b[39mself\u001b[39;49m)\u001b[39m.\u001b[39;49mrequest(method, url, body\u001b[39m=\u001b[39;49mbody, headers\u001b[39m=\u001b[39;49mheaders)\n",
      "File \u001b[0;32m~/anaconda3/lib/python3.9/http/client.py:1285\u001b[0m, in \u001b[0;36mHTTPConnection.request\u001b[0;34m(self, method, url, body, headers, encode_chunked)\u001b[0m\n\u001b[1;32m   1284\u001b[0m \u001b[39m\"\"\"Send a complete request to the server.\"\"\"\u001b[39;00m\n\u001b[0;32m-> 1285\u001b[0m \u001b[39mself\u001b[39;49m\u001b[39m.\u001b[39;49m_send_request(method, url, body, headers, encode_chunked)\n",
      "File \u001b[0;32m~/.local/share/virtualenvs/temp-cdbZQKCD/lib/python3.9/site-packages/botocore/awsrequest.py:94\u001b[0m, in \u001b[0;36mAWSConnection._send_request\u001b[0;34m(self, method, url, body, headers, *args, **kwargs)\u001b[0m\n\u001b[1;32m     93\u001b[0m     \u001b[39mself\u001b[39m\u001b[39m.\u001b[39mresponse_class \u001b[39m=\u001b[39m \u001b[39mself\u001b[39m\u001b[39m.\u001b[39m_original_response_cls\n\u001b[0;32m---> 94\u001b[0m rval \u001b[39m=\u001b[39m \u001b[39msuper\u001b[39;49m()\u001b[39m.\u001b[39;49m_send_request(\n\u001b[1;32m     95\u001b[0m     method, url, body, headers, \u001b[39m*\u001b[39;49margs, \u001b[39m*\u001b[39;49m\u001b[39m*\u001b[39;49mkwargs\n\u001b[1;32m     96\u001b[0m )\n\u001b[1;32m     97\u001b[0m \u001b[39mself\u001b[39m\u001b[39m.\u001b[39m_expect_header_set \u001b[39m=\u001b[39m \u001b[39mFalse\u001b[39;00m\n",
      "File \u001b[0;32m~/anaconda3/lib/python3.9/http/client.py:1331\u001b[0m, in \u001b[0;36mHTTPConnection._send_request\u001b[0;34m(self, method, url, body, headers, encode_chunked)\u001b[0m\n\u001b[1;32m   1330\u001b[0m     body \u001b[39m=\u001b[39m _encode(body, \u001b[39m'\u001b[39m\u001b[39mbody\u001b[39m\u001b[39m'\u001b[39m)\n\u001b[0;32m-> 1331\u001b[0m \u001b[39mself\u001b[39;49m\u001b[39m.\u001b[39;49mendheaders(body, encode_chunked\u001b[39m=\u001b[39;49mencode_chunked)\n",
      "File \u001b[0;32m~/anaconda3/lib/python3.9/http/client.py:1280\u001b[0m, in \u001b[0;36mHTTPConnection.endheaders\u001b[0;34m(self, message_body, encode_chunked)\u001b[0m\n\u001b[1;32m   1279\u001b[0m     \u001b[39mraise\u001b[39;00m CannotSendHeader()\n\u001b[0;32m-> 1280\u001b[0m \u001b[39mself\u001b[39;49m\u001b[39m.\u001b[39;49m_send_output(message_body, encode_chunked\u001b[39m=\u001b[39;49mencode_chunked)\n",
      "File \u001b[0;32m~/.local/share/virtualenvs/temp-cdbZQKCD/lib/python3.9/site-packages/botocore/awsrequest.py:123\u001b[0m, in \u001b[0;36mAWSConnection._send_output\u001b[0;34m(self, message_body, *args, **kwargs)\u001b[0m\n\u001b[1;32m    122\u001b[0m     message_body \u001b[39m=\u001b[39m \u001b[39mNone\u001b[39;00m\n\u001b[0;32m--> 123\u001b[0m \u001b[39mself\u001b[39;49m\u001b[39m.\u001b[39;49msend(msg)\n\u001b[1;32m    124\u001b[0m \u001b[39mif\u001b[39;00m \u001b[39mself\u001b[39m\u001b[39m.\u001b[39m_expect_header_set:\n\u001b[1;32m    125\u001b[0m     \u001b[39m# This is our custom behavior.  If the Expect header was\u001b[39;00m\n\u001b[1;32m    126\u001b[0m     \u001b[39m# set, it will trigger this custom behavior.\u001b[39;00m\n",
      "File \u001b[0;32m~/.local/share/virtualenvs/temp-cdbZQKCD/lib/python3.9/site-packages/botocore/awsrequest.py:218\u001b[0m, in \u001b[0;36mAWSConnection.send\u001b[0;34m(self, str)\u001b[0m\n\u001b[1;32m    217\u001b[0m     \u001b[39mreturn\u001b[39;00m\n\u001b[0;32m--> 218\u001b[0m \u001b[39mreturn\u001b[39;00m \u001b[39msuper\u001b[39;49m()\u001b[39m.\u001b[39;49msend(\u001b[39mstr\u001b[39;49m)\n",
      "File \u001b[0;32m~/anaconda3/lib/python3.9/http/client.py:980\u001b[0m, in \u001b[0;36mHTTPConnection.send\u001b[0;34m(self, data)\u001b[0m\n\u001b[1;32m    979\u001b[0m \u001b[39mif\u001b[39;00m \u001b[39mself\u001b[39m\u001b[39m.\u001b[39mauto_open:\n\u001b[0;32m--> 980\u001b[0m     \u001b[39mself\u001b[39;49m\u001b[39m.\u001b[39;49mconnect()\n\u001b[1;32m    981\u001b[0m \u001b[39melse\u001b[39;00m:\n",
      "File \u001b[0;32m~/.local/share/virtualenvs/temp-cdbZQKCD/lib/python3.9/site-packages/urllib3/connection.py:205\u001b[0m, in \u001b[0;36mHTTPConnection.connect\u001b[0;34m(self)\u001b[0m\n\u001b[1;32m    204\u001b[0m \u001b[39mdef\u001b[39;00m \u001b[39mconnect\u001b[39m(\u001b[39mself\u001b[39m):\n\u001b[0;32m--> 205\u001b[0m     conn \u001b[39m=\u001b[39m \u001b[39mself\u001b[39;49m\u001b[39m.\u001b[39;49m_new_conn()\n\u001b[1;32m    206\u001b[0m     \u001b[39mself\u001b[39m\u001b[39m.\u001b[39m_prepare_conn(conn)\n",
      "File \u001b[0;32m~/.local/share/virtualenvs/temp-cdbZQKCD/lib/python3.9/site-packages/urllib3/connection.py:186\u001b[0m, in \u001b[0;36mHTTPConnection._new_conn\u001b[0;34m(self)\u001b[0m\n\u001b[1;32m    185\u001b[0m \u001b[39mexcept\u001b[39;00m SocketError \u001b[39mas\u001b[39;00m e:\n\u001b[0;32m--> 186\u001b[0m     \u001b[39mraise\u001b[39;00m NewConnectionError(\n\u001b[1;32m    187\u001b[0m         \u001b[39mself\u001b[39m, \u001b[39m\"\u001b[39m\u001b[39mFailed to establish a new connection: \u001b[39m\u001b[39m%s\u001b[39;00m\u001b[39m\"\u001b[39m \u001b[39m%\u001b[39m e\n\u001b[1;32m    188\u001b[0m     )\n\u001b[1;32m    190\u001b[0m \u001b[39mreturn\u001b[39;00m conn\n",
      "\u001b[0;31mNewConnectionError\u001b[0m: <botocore.awsrequest.AWSHTTPConnection object at 0x7f9e8c1951f0>: Failed to establish a new connection: [Errno 111] Connection refused",
      "\nDuring handling of the above exception, another exception occurred:\n",
      "\u001b[0;31mEndpointConnectionError\u001b[0m                   Traceback (most recent call last)",
      "\u001b[1;32m/home/ubuntu/MlopsZoomcampCourceProject/temp/test.ipynb Cell 16\u001b[0m in \u001b[0;36m<cell line: 1>\u001b[0;34m()\u001b[0m\n\u001b[0;32m----> <a href='vscode-notebook-cell://ssh-remote%2B44.203.124.75/home/ubuntu/MlopsZoomcampCourceProject/temp/test.ipynb#X21sdnNjb2RlLXJlbW90ZQ%3D%3D?line=0'>1</a>\u001b[0m shard_iterator_response \u001b[39m=\u001b[39m kinesis_client\u001b[39m.\u001b[39;49mget_shard_iterator(\n\u001b[1;32m      <a href='vscode-notebook-cell://ssh-remote%2B44.203.124.75/home/ubuntu/MlopsZoomcampCourceProject/temp/test.ipynb#X21sdnNjb2RlLXJlbW90ZQ%3D%3D?line=1'>2</a>\u001b[0m     StreamName\u001b[39m=\u001b[39;49mstream_name,\n\u001b[1;32m      <a href='vscode-notebook-cell://ssh-remote%2B44.203.124.75/home/ubuntu/MlopsZoomcampCourceProject/temp/test.ipynb#X21sdnNjb2RlLXJlbW90ZQ%3D%3D?line=2'>3</a>\u001b[0m     ShardId\u001b[39m=\u001b[39;49mshard_id,\n\u001b[1;32m      <a href='vscode-notebook-cell://ssh-remote%2B44.203.124.75/home/ubuntu/MlopsZoomcampCourceProject/temp/test.ipynb#X21sdnNjb2RlLXJlbW90ZQ%3D%3D?line=3'>4</a>\u001b[0m     ShardIteratorType\u001b[39m=\u001b[39;49m\u001b[39m'\u001b[39;49m\u001b[39mTRIM_HORIZON\u001b[39;49m\u001b[39m'\u001b[39;49m,\n\u001b[1;32m      <a href='vscode-notebook-cell://ssh-remote%2B44.203.124.75/home/ubuntu/MlopsZoomcampCourceProject/temp/test.ipynb#X21sdnNjb2RlLXJlbW90ZQ%3D%3D?line=4'>5</a>\u001b[0m )\n\u001b[1;32m      <a href='vscode-notebook-cell://ssh-remote%2B44.203.124.75/home/ubuntu/MlopsZoomcampCourceProject/temp/test.ipynb#X21sdnNjb2RlLXJlbW90ZQ%3D%3D?line=6'>7</a>\u001b[0m shard_iterator_id \u001b[39m=\u001b[39m shard_iterator_response[\u001b[39m'\u001b[39m\u001b[39mShardIterator\u001b[39m\u001b[39m'\u001b[39m]\n",
      "File \u001b[0;32m~/.local/share/virtualenvs/temp-cdbZQKCD/lib/python3.9/site-packages/botocore/client.py:508\u001b[0m, in \u001b[0;36m_api_call\u001b[0;34m(self, *args, **kwargs)\u001b[0m\n\u001b[1;32m    503\u001b[0m \u001b[39mdef\u001b[39;00m \u001b[39m_api_call\u001b[39m(\u001b[39mself\u001b[39m, \u001b[39m*\u001b[39margs, \u001b[39m*\u001b[39m\u001b[39m*\u001b[39mkwargs):\n\u001b[1;32m    504\u001b[0m     \u001b[39m# We're accepting *args so that we can give a more helpful\u001b[39;00m\n\u001b[1;32m    505\u001b[0m     \u001b[39m# error message than TypeError: _api_call takes exactly\u001b[39;00m\n\u001b[1;32m    506\u001b[0m     \u001b[39m# 1 argument.\u001b[39;00m\n\u001b[1;32m    507\u001b[0m     \u001b[39mif\u001b[39;00m args:\n\u001b[0;32m--> 508\u001b[0m         \u001b[39mraise\u001b[39;00m \u001b[39mTypeError\u001b[39;00m(\n\u001b[1;32m    509\u001b[0m             \u001b[39mf\u001b[39m\u001b[39m\"\u001b[39m\u001b[39m{\u001b[39;00mpy_operation_name\u001b[39m}\u001b[39;00m\u001b[39m() only accepts keyword arguments.\u001b[39m\u001b[39m\"\u001b[39m\n\u001b[1;32m    510\u001b[0m         )\n\u001b[1;32m    511\u001b[0m     \u001b[39m# The \"self\" in this scope is referring to the BaseClient.\u001b[39;00m\n\u001b[1;32m    512\u001b[0m     \u001b[39mreturn\u001b[39;00m \u001b[39mself\u001b[39m\u001b[39m.\u001b[39m_make_api_call(operation_name, kwargs)\n",
      "File \u001b[0;32m~/.local/share/virtualenvs/temp-cdbZQKCD/lib/python3.9/site-packages/botocore/client.py:898\u001b[0m, in \u001b[0;36m_make_api_call\u001b[0;34m(self, operation_name, api_params)\u001b[0m\n\u001b[1;32m    887\u001b[0m service_id \u001b[39m=\u001b[39m \u001b[39mself\u001b[39m\u001b[39m.\u001b[39m_service_model\u001b[39m.\u001b[39mservice_id\u001b[39m.\u001b[39mhyphenize()\n\u001b[1;32m    888\u001b[0m handler, event_response \u001b[39m=\u001b[39m \u001b[39mself\u001b[39m\u001b[39m.\u001b[39mmeta\u001b[39m.\u001b[39mevents\u001b[39m.\u001b[39memit_until_response(\n\u001b[1;32m    889\u001b[0m     \u001b[39m'\u001b[39m\u001b[39mbefore-call.\u001b[39m\u001b[39m{service_id}\u001b[39;00m\u001b[39m.\u001b[39m\u001b[39m{operation_name}\u001b[39;00m\u001b[39m'\u001b[39m\u001b[39m.\u001b[39mformat(\n\u001b[1;32m    890\u001b[0m         service_id\u001b[39m=\u001b[39mservice_id, operation_name\u001b[39m=\u001b[39moperation_name\n\u001b[0;32m   (...)\u001b[0m\n\u001b[1;32m    895\u001b[0m     context\u001b[39m=\u001b[39mrequest_context,\n\u001b[1;32m    896\u001b[0m )\n\u001b[0;32m--> 898\u001b[0m \u001b[39mif\u001b[39;00m event_response \u001b[39mis\u001b[39;00m \u001b[39mnot\u001b[39;00m \u001b[39mNone\u001b[39;00m:\n\u001b[1;32m    899\u001b[0m     http, parsed_response \u001b[39m=\u001b[39m event_response\n\u001b[1;32m    900\u001b[0m \u001b[39melse\u001b[39;00m:\n",
      "File \u001b[0;32m~/.local/share/virtualenvs/temp-cdbZQKCD/lib/python3.9/site-packages/botocore/client.py:921\u001b[0m, in \u001b[0;36m_make_request\u001b[0;34m(self, operation_model, request_dict, request_context)\u001b[0m\n\u001b[1;32m    919\u001b[0m     \u001b[39mraise\u001b[39;00m error_class(parsed_response, operation_name)\n\u001b[1;32m    920\u001b[0m \u001b[39melse\u001b[39;00m:\n\u001b[0;32m--> 921\u001b[0m     \u001b[39mreturn\u001b[39;00m parsed_response\n",
      "File \u001b[0;32m~/.local/share/virtualenvs/temp-cdbZQKCD/lib/python3.9/site-packages/botocore/endpoint.py:119\u001b[0m, in \u001b[0;36mEndpoint.make_request\u001b[0;34m(self, operation_model, request_dict)\u001b[0m\n\u001b[1;32m    113\u001b[0m \u001b[39mdef\u001b[39;00m \u001b[39mmake_request\u001b[39m(\u001b[39mself\u001b[39m, operation_model, request_dict):\n\u001b[1;32m    114\u001b[0m     logger\u001b[39m.\u001b[39mdebug(\n\u001b[1;32m    115\u001b[0m         \u001b[39m\"\u001b[39m\u001b[39mMaking request for \u001b[39m\u001b[39m%s\u001b[39;00m\u001b[39m with params: \u001b[39m\u001b[39m%s\u001b[39;00m\u001b[39m\"\u001b[39m,\n\u001b[1;32m    116\u001b[0m         operation_model,\n\u001b[1;32m    117\u001b[0m         request_dict,\n\u001b[1;32m    118\u001b[0m     )\n\u001b[0;32m--> 119\u001b[0m     \u001b[39mreturn\u001b[39;00m \u001b[39mself\u001b[39;49m\u001b[39m.\u001b[39;49m_send_request(request_dict, operation_model)\n",
      "File \u001b[0;32m~/.local/share/virtualenvs/temp-cdbZQKCD/lib/python3.9/site-packages/botocore/endpoint.py:202\u001b[0m, in \u001b[0;36mEndpoint._send_request\u001b[0;34m(self, request_dict, operation_model)\u001b[0m\n\u001b[1;32m    198\u001b[0m request \u001b[39m=\u001b[39m \u001b[39mself\u001b[39m\u001b[39m.\u001b[39mcreate_request(request_dict, operation_model)\n\u001b[1;32m    199\u001b[0m success_response, exception \u001b[39m=\u001b[39m \u001b[39mself\u001b[39m\u001b[39m.\u001b[39m_get_response(\n\u001b[1;32m    200\u001b[0m     request, operation_model, context\n\u001b[1;32m    201\u001b[0m )\n\u001b[0;32m--> 202\u001b[0m \u001b[39mwhile\u001b[39;00m \u001b[39mself\u001b[39;49m\u001b[39m.\u001b[39;49m_needs_retry(\n\u001b[1;32m    203\u001b[0m     attempts,\n\u001b[1;32m    204\u001b[0m     operation_model,\n\u001b[1;32m    205\u001b[0m     request_dict,\n\u001b[1;32m    206\u001b[0m     success_response,\n\u001b[1;32m    207\u001b[0m     exception,\n\u001b[1;32m    208\u001b[0m ):\n\u001b[1;32m    209\u001b[0m     attempts \u001b[39m+\u001b[39m\u001b[39m=\u001b[39m \u001b[39m1\u001b[39m\n\u001b[1;32m    210\u001b[0m     \u001b[39mself\u001b[39m\u001b[39m.\u001b[39m_update_retries_context(context, attempts, success_response)\n",
      "File \u001b[0;32m~/.local/share/virtualenvs/temp-cdbZQKCD/lib/python3.9/site-packages/botocore/endpoint.py:354\u001b[0m, in \u001b[0;36mEndpoint._needs_retry\u001b[0;34m(self, attempts, operation_model, request_dict, response, caught_exception)\u001b[0m\n\u001b[1;32m    352\u001b[0m service_id \u001b[39m=\u001b[39m operation_model\u001b[39m.\u001b[39mservice_model\u001b[39m.\u001b[39mservice_id\u001b[39m.\u001b[39mhyphenize()\n\u001b[1;32m    353\u001b[0m event_name \u001b[39m=\u001b[39m \u001b[39mf\u001b[39m\u001b[39m\"\u001b[39m\u001b[39mneeds-retry.\u001b[39m\u001b[39m{\u001b[39;00mservice_id\u001b[39m}\u001b[39;00m\u001b[39m.\u001b[39m\u001b[39m{\u001b[39;00moperation_model\u001b[39m.\u001b[39mname\u001b[39m}\u001b[39;00m\u001b[39m\"\u001b[39m\n\u001b[0;32m--> 354\u001b[0m responses \u001b[39m=\u001b[39m \u001b[39mself\u001b[39;49m\u001b[39m.\u001b[39;49m_event_emitter\u001b[39m.\u001b[39;49memit(\n\u001b[1;32m    355\u001b[0m     event_name,\n\u001b[1;32m    356\u001b[0m     response\u001b[39m=\u001b[39;49mresponse,\n\u001b[1;32m    357\u001b[0m     endpoint\u001b[39m=\u001b[39;49m\u001b[39mself\u001b[39;49m,\n\u001b[1;32m    358\u001b[0m     operation\u001b[39m=\u001b[39;49moperation_model,\n\u001b[1;32m    359\u001b[0m     attempts\u001b[39m=\u001b[39;49mattempts,\n\u001b[1;32m    360\u001b[0m     caught_exception\u001b[39m=\u001b[39;49mcaught_exception,\n\u001b[1;32m    361\u001b[0m     request_dict\u001b[39m=\u001b[39;49mrequest_dict,\n\u001b[1;32m    362\u001b[0m )\n\u001b[1;32m    363\u001b[0m handler_response \u001b[39m=\u001b[39m first_non_none_response(responses)\n\u001b[1;32m    364\u001b[0m \u001b[39mif\u001b[39;00m handler_response \u001b[39mis\u001b[39;00m \u001b[39mNone\u001b[39;00m:\n",
      "File \u001b[0;32m~/.local/share/virtualenvs/temp-cdbZQKCD/lib/python3.9/site-packages/botocore/hooks.py:412\u001b[0m, in \u001b[0;36mEventAliaser.emit\u001b[0;34m(self, event_name, **kwargs)\u001b[0m\n\u001b[1;32m    410\u001b[0m \u001b[39mdef\u001b[39;00m \u001b[39memit\u001b[39m(\u001b[39mself\u001b[39m, event_name, \u001b[39m*\u001b[39m\u001b[39m*\u001b[39mkwargs):\n\u001b[1;32m    411\u001b[0m     aliased_event_name \u001b[39m=\u001b[39m \u001b[39mself\u001b[39m\u001b[39m.\u001b[39m_alias_event_name(event_name)\n\u001b[0;32m--> 412\u001b[0m     \u001b[39mreturn\u001b[39;00m \u001b[39mself\u001b[39;49m\u001b[39m.\u001b[39;49m_emitter\u001b[39m.\u001b[39;49memit(aliased_event_name, \u001b[39m*\u001b[39;49m\u001b[39m*\u001b[39;49mkwargs)\n",
      "File \u001b[0;32m~/.local/share/virtualenvs/temp-cdbZQKCD/lib/python3.9/site-packages/botocore/hooks.py:256\u001b[0m, in \u001b[0;36mHierarchicalEmitter.emit\u001b[0;34m(self, event_name, **kwargs)\u001b[0m\n\u001b[1;32m    245\u001b[0m \u001b[39mdef\u001b[39;00m \u001b[39memit\u001b[39m(\u001b[39mself\u001b[39m, event_name, \u001b[39m*\u001b[39m\u001b[39m*\u001b[39mkwargs):\n\u001b[1;32m    246\u001b[0m     \u001b[39m\"\"\"\u001b[39;00m\n\u001b[1;32m    247\u001b[0m \u001b[39m    Emit an event by name with arguments passed as keyword args.\u001b[39;00m\n\u001b[1;32m    248\u001b[0m \n\u001b[0;32m   (...)\u001b[0m\n\u001b[1;32m    254\u001b[0m \u001b[39m             handlers.\u001b[39;00m\n\u001b[1;32m    255\u001b[0m \u001b[39m    \"\"\"\u001b[39;00m\n\u001b[0;32m--> 256\u001b[0m     \u001b[39mreturn\u001b[39;00m \u001b[39mself\u001b[39;49m\u001b[39m.\u001b[39;49m_emit(event_name, kwargs)\n",
      "File \u001b[0;32m~/.local/share/virtualenvs/temp-cdbZQKCD/lib/python3.9/site-packages/botocore/hooks.py:239\u001b[0m, in \u001b[0;36mHierarchicalEmitter._emit\u001b[0;34m(self, event_name, kwargs, stop_on_response)\u001b[0m\n\u001b[1;32m    237\u001b[0m \u001b[39mfor\u001b[39;00m handler \u001b[39min\u001b[39;00m handlers_to_call:\n\u001b[1;32m    238\u001b[0m     logger\u001b[39m.\u001b[39mdebug(\u001b[39m'\u001b[39m\u001b[39mEvent \u001b[39m\u001b[39m%s\u001b[39;00m\u001b[39m: calling handler \u001b[39m\u001b[39m%s\u001b[39;00m\u001b[39m'\u001b[39m, event_name, handler)\n\u001b[0;32m--> 239\u001b[0m     response \u001b[39m=\u001b[39m handler(\u001b[39m*\u001b[39;49m\u001b[39m*\u001b[39;49mkwargs)\n\u001b[1;32m    240\u001b[0m     responses\u001b[39m.\u001b[39mappend((handler, response))\n\u001b[1;32m    241\u001b[0m     \u001b[39mif\u001b[39;00m stop_on_response \u001b[39mand\u001b[39;00m response \u001b[39mis\u001b[39;00m \u001b[39mnot\u001b[39;00m \u001b[39mNone\u001b[39;00m:\n",
      "File \u001b[0;32m~/.local/share/virtualenvs/temp-cdbZQKCD/lib/python3.9/site-packages/botocore/retryhandler.py:207\u001b[0m, in \u001b[0;36mRetryHandler.__call__\u001b[0;34m(self, attempts, response, caught_exception, **kwargs)\u001b[0m\n\u001b[1;32m    204\u001b[0m     retries_context \u001b[39m=\u001b[39m kwargs[\u001b[39m'\u001b[39m\u001b[39mrequest_dict\u001b[39m\u001b[39m'\u001b[39m][\u001b[39m'\u001b[39m\u001b[39mcontext\u001b[39m\u001b[39m'\u001b[39m]\u001b[39m.\u001b[39mget(\u001b[39m'\u001b[39m\u001b[39mretries\u001b[39m\u001b[39m'\u001b[39m)\n\u001b[1;32m    205\u001b[0m     checker_kwargs\u001b[39m.\u001b[39mupdate({\u001b[39m'\u001b[39m\u001b[39mretries_context\u001b[39m\u001b[39m'\u001b[39m: retries_context})\n\u001b[0;32m--> 207\u001b[0m \u001b[39mif\u001b[39;00m \u001b[39mself\u001b[39;49m\u001b[39m.\u001b[39;49m_checker(\u001b[39m*\u001b[39;49m\u001b[39m*\u001b[39;49mchecker_kwargs):\n\u001b[1;32m    208\u001b[0m     result \u001b[39m=\u001b[39m \u001b[39mself\u001b[39m\u001b[39m.\u001b[39m_action(attempts\u001b[39m=\u001b[39mattempts)\n\u001b[1;32m    209\u001b[0m     logger\u001b[39m.\u001b[39mdebug(\u001b[39m\"\u001b[39m\u001b[39mRetry needed, action of: \u001b[39m\u001b[39m%s\u001b[39;00m\u001b[39m\"\u001b[39m, result)\n",
      "File \u001b[0;32m~/.local/share/virtualenvs/temp-cdbZQKCD/lib/python3.9/site-packages/botocore/retryhandler.py:284\u001b[0m, in \u001b[0;36mMaxAttemptsDecorator.__call__\u001b[0;34m(self, attempt_number, response, caught_exception, retries_context)\u001b[0m\n\u001b[1;32m    279\u001b[0m \u001b[39mif\u001b[39;00m retries_context:\n\u001b[1;32m    280\u001b[0m     retries_context[\u001b[39m'\u001b[39m\u001b[39mmax\u001b[39m\u001b[39m'\u001b[39m] \u001b[39m=\u001b[39m \u001b[39mmax\u001b[39m(\n\u001b[1;32m    281\u001b[0m         retries_context\u001b[39m.\u001b[39mget(\u001b[39m'\u001b[39m\u001b[39mmax\u001b[39m\u001b[39m'\u001b[39m, \u001b[39m0\u001b[39m), \u001b[39mself\u001b[39m\u001b[39m.\u001b[39m_max_attempts\n\u001b[1;32m    282\u001b[0m     )\n\u001b[0;32m--> 284\u001b[0m should_retry \u001b[39m=\u001b[39m \u001b[39mself\u001b[39;49m\u001b[39m.\u001b[39;49m_should_retry(\n\u001b[1;32m    285\u001b[0m     attempt_number, response, caught_exception\n\u001b[1;32m    286\u001b[0m )\n\u001b[1;32m    287\u001b[0m \u001b[39mif\u001b[39;00m should_retry:\n\u001b[1;32m    288\u001b[0m     \u001b[39mif\u001b[39;00m attempt_number \u001b[39m>\u001b[39m\u001b[39m=\u001b[39m \u001b[39mself\u001b[39m\u001b[39m.\u001b[39m_max_attempts:\n\u001b[1;32m    289\u001b[0m         \u001b[39m# explicitly set MaxAttemptsReached\u001b[39;00m\n",
      "File \u001b[0;32m~/.local/share/virtualenvs/temp-cdbZQKCD/lib/python3.9/site-packages/botocore/retryhandler.py:320\u001b[0m, in \u001b[0;36mMaxAttemptsDecorator._should_retry\u001b[0;34m(self, attempt_number, response, caught_exception)\u001b[0m\n\u001b[1;32m    316\u001b[0m         \u001b[39mreturn\u001b[39;00m \u001b[39mTrue\u001b[39;00m\n\u001b[1;32m    317\u001b[0m \u001b[39melse\u001b[39;00m:\n\u001b[1;32m    318\u001b[0m     \u001b[39m# If we've exceeded the max attempts we just let the exception\u001b[39;00m\n\u001b[1;32m    319\u001b[0m     \u001b[39m# propogate if one has occurred.\u001b[39;00m\n\u001b[0;32m--> 320\u001b[0m     \u001b[39mreturn\u001b[39;00m \u001b[39mself\u001b[39;49m\u001b[39m.\u001b[39;49m_checker(attempt_number, response, caught_exception)\n",
      "File \u001b[0;32m~/.local/share/virtualenvs/temp-cdbZQKCD/lib/python3.9/site-packages/botocore/retryhandler.py:363\u001b[0m, in \u001b[0;36mMultiChecker.__call__\u001b[0;34m(self, attempt_number, response, caught_exception)\u001b[0m\n\u001b[1;32m    361\u001b[0m \u001b[39mdef\u001b[39;00m \u001b[39m__call__\u001b[39m(\u001b[39mself\u001b[39m, attempt_number, response, caught_exception):\n\u001b[1;32m    362\u001b[0m     \u001b[39mfor\u001b[39;00m checker \u001b[39min\u001b[39;00m \u001b[39mself\u001b[39m\u001b[39m.\u001b[39m_checkers:\n\u001b[0;32m--> 363\u001b[0m         checker_response \u001b[39m=\u001b[39m checker(\n\u001b[1;32m    364\u001b[0m             attempt_number, response, caught_exception\n\u001b[1;32m    365\u001b[0m         )\n\u001b[1;32m    366\u001b[0m         \u001b[39mif\u001b[39;00m checker_response:\n\u001b[1;32m    367\u001b[0m             \u001b[39mreturn\u001b[39;00m checker_response\n",
      "File \u001b[0;32m~/.local/share/virtualenvs/temp-cdbZQKCD/lib/python3.9/site-packages/botocore/retryhandler.py:247\u001b[0m, in \u001b[0;36mBaseChecker.__call__\u001b[0;34m(self, attempt_number, response, caught_exception)\u001b[0m\n\u001b[1;32m    245\u001b[0m     \u001b[39mreturn\u001b[39;00m \u001b[39mself\u001b[39m\u001b[39m.\u001b[39m_check_response(attempt_number, response)\n\u001b[1;32m    246\u001b[0m \u001b[39melif\u001b[39;00m caught_exception \u001b[39mis\u001b[39;00m \u001b[39mnot\u001b[39;00m \u001b[39mNone\u001b[39;00m:\n\u001b[0;32m--> 247\u001b[0m     \u001b[39mreturn\u001b[39;00m \u001b[39mself\u001b[39;49m\u001b[39m.\u001b[39;49m_check_caught_exception(\n\u001b[1;32m    248\u001b[0m         attempt_number, caught_exception\n\u001b[1;32m    249\u001b[0m     )\n\u001b[1;32m    250\u001b[0m \u001b[39melse\u001b[39;00m:\n\u001b[1;32m    251\u001b[0m     \u001b[39mraise\u001b[39;00m \u001b[39mValueError\u001b[39;00m(\u001b[39m\"\u001b[39m\u001b[39mBoth response and caught_exception are None.\u001b[39m\u001b[39m\"\u001b[39m)\n",
      "File \u001b[0;32m~/.local/share/virtualenvs/temp-cdbZQKCD/lib/python3.9/site-packages/botocore/retryhandler.py:416\u001b[0m, in \u001b[0;36mExceptionRaiser._check_caught_exception\u001b[0;34m(self, attempt_number, caught_exception)\u001b[0m\n\u001b[1;32m    408\u001b[0m \u001b[39mdef\u001b[39;00m \u001b[39m_check_caught_exception\u001b[39m(\u001b[39mself\u001b[39m, attempt_number, caught_exception):\n\u001b[1;32m    409\u001b[0m     \u001b[39m# This is implementation specific, but this class is useful by\u001b[39;00m\n\u001b[1;32m    410\u001b[0m     \u001b[39m# coordinating with the MaxAttemptsDecorator.\u001b[39;00m\n\u001b[0;32m   (...)\u001b[0m\n\u001b[1;32m    414\u001b[0m     \u001b[39m# the MaxAttemptsDecorator is not interested in retrying the exception\u001b[39;00m\n\u001b[1;32m    415\u001b[0m     \u001b[39m# then this exception just propogates out past the retry code.\u001b[39;00m\n\u001b[0;32m--> 416\u001b[0m     \u001b[39mraise\u001b[39;00m caught_exception\n",
      "File \u001b[0;32m~/.local/share/virtualenvs/temp-cdbZQKCD/lib/python3.9/site-packages/botocore/endpoint.py:281\u001b[0m, in \u001b[0;36mEndpoint._do_get_response\u001b[0;34m(self, request, operation_model, context)\u001b[0m\n\u001b[1;32m    279\u001b[0m     http_response \u001b[39m=\u001b[39m first_non_none_response(responses)\n\u001b[1;32m    280\u001b[0m     \u001b[39mif\u001b[39;00m http_response \u001b[39mis\u001b[39;00m \u001b[39mNone\u001b[39;00m:\n\u001b[0;32m--> 281\u001b[0m         http_response \u001b[39m=\u001b[39m \u001b[39mself\u001b[39;49m\u001b[39m.\u001b[39;49m_send(request)\n\u001b[1;32m    282\u001b[0m \u001b[39mexcept\u001b[39;00m HTTPClientError \u001b[39mas\u001b[39;00m e:\n\u001b[1;32m    283\u001b[0m     \u001b[39mreturn\u001b[39;00m (\u001b[39mNone\u001b[39;00m, e)\n",
      "File \u001b[0;32m~/.local/share/virtualenvs/temp-cdbZQKCD/lib/python3.9/site-packages/botocore/endpoint.py:377\u001b[0m, in \u001b[0;36mEndpoint._send\u001b[0;34m(self, request)\u001b[0m\n\u001b[1;32m    376\u001b[0m \u001b[39mdef\u001b[39;00m \u001b[39m_send\u001b[39m(\u001b[39mself\u001b[39m, request):\n\u001b[0;32m--> 377\u001b[0m     \u001b[39mreturn\u001b[39;00m \u001b[39mself\u001b[39;49m\u001b[39m.\u001b[39;49mhttp_session\u001b[39m.\u001b[39;49msend(request)\n",
      "File \u001b[0;32m~/.local/share/virtualenvs/temp-cdbZQKCD/lib/python3.9/site-packages/botocore/httpsession.py:477\u001b[0m, in \u001b[0;36mURLLib3Session.send\u001b[0;34m(self, request)\u001b[0m\n\u001b[1;32m    475\u001b[0m     \u001b[39mraise\u001b[39;00m SSLError(endpoint_url\u001b[39m=\u001b[39mrequest\u001b[39m.\u001b[39murl, error\u001b[39m=\u001b[39me)\n\u001b[1;32m    476\u001b[0m \u001b[39mexcept\u001b[39;00m (NewConnectionError, socket\u001b[39m.\u001b[39mgaierror) \u001b[39mas\u001b[39;00m e:\n\u001b[0;32m--> 477\u001b[0m     \u001b[39mraise\u001b[39;00m EndpointConnectionError(endpoint_url\u001b[39m=\u001b[39mrequest\u001b[39m.\u001b[39murl, error\u001b[39m=\u001b[39me)\n\u001b[1;32m    478\u001b[0m \u001b[39mexcept\u001b[39;00m ProxyError \u001b[39mas\u001b[39;00m e:\n\u001b[1;32m    479\u001b[0m     \u001b[39mraise\u001b[39;00m ProxyConnectionError(\n\u001b[1;32m    480\u001b[0m         proxy_url\u001b[39m=\u001b[39mmask_proxy_url(proxy_url), error\u001b[39m=\u001b[39me\n\u001b[1;32m    481\u001b[0m     )\n",
      "\u001b[0;31mEndpointConnectionError\u001b[0m: Could not connect to the endpoint URL: \"http://localhost:4566/\""
     ]
    }
   ],
   "source": [
    "shard_iterator_response = kinesis_client.get_shard_iterator(\n",
    "    StreamName=stream_name,\n",
    "    ShardId=shard_id,\n",
    "    ShardIteratorType='TRIM_HORIZON',\n",
    ")\n",
    "\n",
    "shard_iterator_id = shard_iterator_response['ShardIterator']"
   ]
  },
  {
   "cell_type": "code",
   "execution_count": 13,
   "metadata": {},
   "outputs": [
    {
     "data": {
      "text/plain": [
       "'/home/ubuntu/MlopsZoomcampCourceProject/temp'"
      ]
     },
     "execution_count": 13,
     "metadata": {},
     "output_type": "execute_result"
    }
   ],
   "source": [
    "pwd"
   ]
  },
  {
   "cell_type": "code",
   "execution_count": 1,
   "metadata": {},
   "outputs": [
    {
     "name": "stdout",
     "output_type": "stream",
     "text": [
      "The Zen of Python, by Tim Peters\n",
      "\n",
      "Beautiful is better than ugly.\n",
      "Explicit is better than implicit.\n",
      "Simple is better than complex.\n",
      "Complex is better than complicated.\n",
      "Flat is better than nested.\n",
      "Sparse is better than dense.\n",
      "Readability counts.\n",
      "Special cases aren't special enough to break the rules.\n",
      "Although practicality beats purity.\n",
      "Errors should never pass silently.\n",
      "Unless explicitly silenced.\n",
      "In the face of ambiguity, refuse the temptation to guess.\n",
      "There should be one-- and preferably only one --obvious way to do it.\n",
      "Although that way may not be obvious at first unless you're Dutch.\n",
      "Now is better than never.\n",
      "Although never is often better than *right* now.\n",
      "If the implementation is hard to explain, it's a bad idea.\n",
      "If the implementation is easy to explain, it may be a good idea.\n",
      "Namespaces are one honking great idea -- let's do more of those!\n"
     ]
    }
   ],
   "source": [
    "from tests.model_test import *"
   ]
  },
  {
   "cell_type": "code",
   "execution_count": 2,
   "metadata": {},
   "outputs": [
    {
     "name": "stdout",
     "output_type": "stream",
     "text": [
      "actual_result: {'model': 'Credit_Card_Churn_Prediction', 'version': '96a17ab73a2645a2b7ecfeb4ef7cd6cd', 'prediction': {'Churn_Prediction': 'Existing Customer', 'profile_id': 52}}\n",
      "expected_result: {\"profile\": {\"Customer_Age\": 45, \"Gender\": \"M\", \"Dependent_count\": 3, \"Education_Level\": \"High School\", \"Marital_Status\": \"Married\", \"Income_Category\": \"$60K - $80K\", \"Card_Category\": \"Blue\", \"Months_on_book\": 39, \"Total_Relationship_Count\": 5, \"Months_Inactive_12_mon\": 1, \"Contacts_Count_12_mon\": 3, \"Credit_Limit\": 12691.0, \"Total_Revolving_Bal\": 777, \"Avg_Open_To_Buy\": 11914.0, \"Total_Amt_Chng_Q4_Q1\": 1.335, \"Total_Trans_Amt\": 1144, \"Total_Trans_Ct\": 42, \"Total_Ct_Chng_Q4_Q1\": 1.625, \"Avg_Utilization_Ratio\": 0.061}, \"profile_id\": 52}\n"
     ]
    }
   ],
   "source": [
    "test_base64_decode()"
   ]
  },
  {
   "cell_type": "code",
   "execution_count": 2,
   "metadata": {},
   "outputs": [
    {
     "name": "stdout",
     "output_type": "stream",
     "text": [
      "path s3://jai-mlops-data/1/96a17ab73a2645a2b7ecfeb4ef7cd6cd/artifacts/models_mlflow 1/96a17ab73a2645a2b7ecfeb4ef7cd6cd/artifacts/encoder\n",
      "1/96a17ab73a2645a2b7ecfeb4ef7cd6cd/artifacts/encoder/le_Gender.pkl\n",
      "1/96a17ab73a2645a2b7ecfeb4ef7cd6cd/artifacts/encoder/le_Education_Level.pkl\n",
      "1/96a17ab73a2645a2b7ecfeb4ef7cd6cd/artifacts/encoder/le_Marital_Status.pkl\n",
      "1/96a17ab73a2645a2b7ecfeb4ef7cd6cd/artifacts/encoder/le_Income_Category.pkl\n",
      "1/96a17ab73a2645a2b7ecfeb4ef7cd6cd/artifacts/encoder/le_Card_Category.pkl\n",
      "actual_result: Existing Customer\n",
      "expected_result: {'model': 'Credit_Card_Churn_Prediction', 'version': '96a17ab73a2645a2b7ecfeb4ef7cd6cd', 'prediction': {'Churn_Prediction': 'Existing Customer', 'profile_id': 52}}\n"
     ]
    },
    {
     "ename": "AssertionError",
     "evalue": "",
     "output_type": "error",
     "traceback": [
      "\u001b[0;31m---------------------------------------------------------------------------\u001b[0m",
      "\u001b[0;31mAssertionError\u001b[0m                            Traceback (most recent call last)",
      "\u001b[1;32m/home/ubuntu/MlopsZoomcampCourceProject/temp/test.ipynb Cell 20\u001b[0m in \u001b[0;36m<cell line: 2>\u001b[0;34m()\u001b[0m\n\u001b[1;32m      <a href='vscode-notebook-cell://ssh-remote%2B44.203.124.75/home/ubuntu/MlopsZoomcampCourceProject/temp/test.ipynb#X25sdnNjb2RlLXJlbW90ZQ%3D%3D?line=0'>1</a>\u001b[0m \u001b[39m#test_prepare_features()\u001b[39;00m\n\u001b[0;32m----> <a href='vscode-notebook-cell://ssh-remote%2B44.203.124.75/home/ubuntu/MlopsZoomcampCourceProject/temp/test.ipynb#X25sdnNjb2RlLXJlbW90ZQ%3D%3D?line=1'>2</a>\u001b[0m test_predict()\n",
      "File \u001b[0;32m~/MlopsZoomcampCourceProject/temp/tests/model_test.py:120\u001b[0m, in \u001b[0;36mtest_predict\u001b[0;34m()\u001b[0m\n\u001b[1;32m    118\u001b[0m \u001b[39mprint\u001b[39m(\u001b[39m\"\u001b[39m\u001b[39mactual_result:\u001b[39m\u001b[39m\"\u001b[39m, actual_prediction)\n\u001b[1;32m    119\u001b[0m \u001b[39mprint\u001b[39m(\u001b[39m\"\u001b[39m\u001b[39mexpected_result:\u001b[39m\u001b[39m\"\u001b[39m, expected_prediction)\n\u001b[0;32m--> 120\u001b[0m \u001b[39massert\u001b[39;00m actual_prediction \u001b[39m==\u001b[39m expected_prediction\n",
      "\u001b[0;31mAssertionError\u001b[0m: "
     ]
    }
   ],
   "source": [
    "#test_prepare_features()\n",
    "test_predict()\n",
    "test_lambda_handler()\n",
    "\n"
   ]
  },
  {
   "cell_type": "code",
   "execution_count": null,
   "metadata": {},
   "outputs": [],
   "source": []
  }
 ],
 "metadata": {
  "kernelspec": {
   "display_name": "Python 3.9.12 ('temp-cdbZQKCD': pipenv)",
   "language": "python",
   "name": "python3"
  },
  "language_info": {
   "codemirror_mode": {
    "name": "ipython",
    "version": 3
   },
   "file_extension": ".py",
   "mimetype": "text/x-python",
   "name": "python",
   "nbconvert_exporter": "python",
   "pygments_lexer": "ipython3",
   "version": "3.9.12"
  },
  "orig_nbformat": 4,
  "vscode": {
   "interpreter": {
    "hash": "9347bc484ca4ff55a851b227cee198e3c60efdbfd28dbe63cbcb8f9e79d9b6df"
   }
  }
 },
 "nbformat": 4,
 "nbformat_minor": 2
}
